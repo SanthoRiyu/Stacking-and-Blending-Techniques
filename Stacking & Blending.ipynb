{
 "cells": [
  {
   "cell_type": "code",
   "execution_count": 33,
   "metadata": {
    "ExecuteTime": {
     "end_time": "2019-09-28T19:24:04.290973Z",
     "start_time": "2019-09-28T19:24:04.281062Z"
    }
   },
   "outputs": [],
   "source": [
    "import pandas as pd\n",
    "import numpy as np\n",
    "import matplotlib.pyplot as plt\n",
    "%matplotlib inline\n",
    "from sklearn.model_selection import StratifiedKFold\n",
    "from seaborn import load_dataset\n",
    "import seaborn as sns\n",
    "from sklearn.preprocessing import LabelEncoder\n",
    "from sklearn.preprocessing import StandardScaler\n",
    "from sklearn.model_selection import train_test_split, StratifiedKFold, KFold\n",
    "from sklearn.metrics import confusion_matrix, accuracy_score, roc_auc_score\n",
    "import warnings\n",
    "warnings.filterwarnings(\"ignore\")"
   ]
  },
  {
   "cell_type": "code",
   "execution_count": 124,
   "metadata": {
    "ExecuteTime": {
     "end_time": "2019-09-28T20:15:52.016909Z",
     "start_time": "2019-09-28T20:15:51.983982Z"
    },
    "scrolled": true
   },
   "outputs": [
    {
     "data": {
      "text/html": [
       "<div>\n",
       "<style scoped>\n",
       "    .dataframe tbody tr th:only-of-type {\n",
       "        vertical-align: middle;\n",
       "    }\n",
       "\n",
       "    .dataframe tbody tr th {\n",
       "        vertical-align: top;\n",
       "    }\n",
       "\n",
       "    .dataframe thead th {\n",
       "        text-align: right;\n",
       "    }\n",
       "</style>\n",
       "<table border=\"1\" class=\"dataframe\">\n",
       "  <thead>\n",
       "    <tr style=\"text-align: right;\">\n",
       "      <th></th>\n",
       "      <th>survived</th>\n",
       "      <th>pclass</th>\n",
       "      <th>sex</th>\n",
       "      <th>age</th>\n",
       "      <th>sibsp</th>\n",
       "      <th>parch</th>\n",
       "      <th>fare</th>\n",
       "      <th>embarked</th>\n",
       "      <th>class</th>\n",
       "      <th>who</th>\n",
       "      <th>adult_male</th>\n",
       "      <th>deck</th>\n",
       "      <th>embark_town</th>\n",
       "      <th>alone</th>\n",
       "    </tr>\n",
       "  </thead>\n",
       "  <tbody>\n",
       "    <tr>\n",
       "      <th>0</th>\n",
       "      <td>0</td>\n",
       "      <td>3</td>\n",
       "      <td>male</td>\n",
       "      <td>22.0</td>\n",
       "      <td>1</td>\n",
       "      <td>0</td>\n",
       "      <td>7.2500</td>\n",
       "      <td>S</td>\n",
       "      <td>Third</td>\n",
       "      <td>man</td>\n",
       "      <td>True</td>\n",
       "      <td>NaN</td>\n",
       "      <td>Southampton</td>\n",
       "      <td>False</td>\n",
       "    </tr>\n",
       "    <tr>\n",
       "      <th>1</th>\n",
       "      <td>1</td>\n",
       "      <td>1</td>\n",
       "      <td>female</td>\n",
       "      <td>38.0</td>\n",
       "      <td>1</td>\n",
       "      <td>0</td>\n",
       "      <td>71.2833</td>\n",
       "      <td>C</td>\n",
       "      <td>First</td>\n",
       "      <td>woman</td>\n",
       "      <td>False</td>\n",
       "      <td>C</td>\n",
       "      <td>Cherbourg</td>\n",
       "      <td>False</td>\n",
       "    </tr>\n",
       "    <tr>\n",
       "      <th>2</th>\n",
       "      <td>1</td>\n",
       "      <td>3</td>\n",
       "      <td>female</td>\n",
       "      <td>26.0</td>\n",
       "      <td>0</td>\n",
       "      <td>0</td>\n",
       "      <td>7.9250</td>\n",
       "      <td>S</td>\n",
       "      <td>Third</td>\n",
       "      <td>woman</td>\n",
       "      <td>False</td>\n",
       "      <td>NaN</td>\n",
       "      <td>Southampton</td>\n",
       "      <td>True</td>\n",
       "    </tr>\n",
       "    <tr>\n",
       "      <th>3</th>\n",
       "      <td>1</td>\n",
       "      <td>1</td>\n",
       "      <td>female</td>\n",
       "      <td>35.0</td>\n",
       "      <td>1</td>\n",
       "      <td>0</td>\n",
       "      <td>53.1000</td>\n",
       "      <td>S</td>\n",
       "      <td>First</td>\n",
       "      <td>woman</td>\n",
       "      <td>False</td>\n",
       "      <td>C</td>\n",
       "      <td>Southampton</td>\n",
       "      <td>False</td>\n",
       "    </tr>\n",
       "    <tr>\n",
       "      <th>4</th>\n",
       "      <td>0</td>\n",
       "      <td>3</td>\n",
       "      <td>male</td>\n",
       "      <td>35.0</td>\n",
       "      <td>0</td>\n",
       "      <td>0</td>\n",
       "      <td>8.0500</td>\n",
       "      <td>S</td>\n",
       "      <td>Third</td>\n",
       "      <td>man</td>\n",
       "      <td>True</td>\n",
       "      <td>NaN</td>\n",
       "      <td>Southampton</td>\n",
       "      <td>True</td>\n",
       "    </tr>\n",
       "  </tbody>\n",
       "</table>\n",
       "</div>"
      ],
      "text/plain": [
       "   survived  pclass     sex   age  sibsp  parch     fare embarked  class  \\\n",
       "0         0       3    male  22.0      1      0   7.2500        S  Third   \n",
       "1         1       1  female  38.0      1      0  71.2833        C  First   \n",
       "2         1       3  female  26.0      0      0   7.9250        S  Third   \n",
       "3         1       1  female  35.0      1      0  53.1000        S  First   \n",
       "4         0       3    male  35.0      0      0   8.0500        S  Third   \n",
       "\n",
       "     who  adult_male deck  embark_town  alone  \n",
       "0    man        True  NaN  Southampton  False  \n",
       "1  woman       False    C    Cherbourg  False  \n",
       "2  woman       False  NaN  Southampton   True  \n",
       "3  woman       False    C  Southampton  False  \n",
       "4    man        True  NaN  Southampton   True  "
      ]
     },
     "execution_count": 124,
     "metadata": {},
     "output_type": "execute_result"
    }
   ],
   "source": [
    "# sns.get_dataset_names('titanic')\n",
    "data = load_dataset('titanic')\n",
    "data.drop('alive',1,inplace=True)\n",
    "data.head()"
   ]
  },
  {
   "cell_type": "code",
   "execution_count": 125,
   "metadata": {
    "ExecuteTime": {
     "end_time": "2019-09-28T20:15:57.350469Z",
     "start_time": "2019-09-28T20:15:57.319227Z"
    }
   },
   "outputs": [],
   "source": [
    "from scipy.stats import mode\n",
    "for col in data.columns:\n",
    "#     print(data[col].value_counts().argmax())\n",
    "    data[col].fillna(data[col].value_counts().argmax(),inplace=True)"
   ]
  },
  {
   "cell_type": "code",
   "execution_count": 126,
   "metadata": {
    "ExecuteTime": {
     "end_time": "2019-09-28T20:15:59.504895Z",
     "start_time": "2019-09-28T20:15:59.495044Z"
    }
   },
   "outputs": [
    {
     "data": {
      "text/plain": [
       "survived       False\n",
       "pclass         False\n",
       "sex            False\n",
       "age            False\n",
       "sibsp          False\n",
       "parch          False\n",
       "fare           False\n",
       "embarked       False\n",
       "class          False\n",
       "who            False\n",
       "adult_male     False\n",
       "deck           False\n",
       "embark_town    False\n",
       "alone          False\n",
       "dtype: bool"
      ]
     },
     "execution_count": 126,
     "metadata": {},
     "output_type": "execute_result"
    }
   ],
   "source": [
    "data.isna().any()"
   ]
  },
  {
   "cell_type": "code",
   "execution_count": 127,
   "metadata": {
    "ExecuteTime": {
     "end_time": "2019-09-28T20:16:00.733936Z",
     "start_time": "2019-09-28T20:16:00.708673Z"
    }
   },
   "outputs": [
    {
     "name": "stdout",
     "output_type": "stream",
     "text": [
      "sex_Labeller\n",
      "embarked_Labeller\n",
      "class_Labeller\n",
      "who_Labeller\n",
      "adult_male_Labeller\n",
      "deck_Labeller\n",
      "embark_town_Labeller\n",
      "alone_Labeller\n",
      "Labelling Done\n"
     ]
    }
   ],
   "source": [
    "cols = ['sex','embarked','class','who','adult_male','deck','embark_town','alone']\n",
    "for col in cols:\n",
    "    col_name = col+'_Labeller'\n",
    "    print(col+'_Labeller')\n",
    "    col_name = LabelEncoder()\n",
    "    data[col] = col_name.fit_transform(data[col])\n",
    "print('Labelling Done')"
   ]
  },
  {
   "cell_type": "code",
   "execution_count": 128,
   "metadata": {
    "ExecuteTime": {
     "end_time": "2019-09-28T20:16:01.928789Z",
     "start_time": "2019-09-28T20:16:01.901893Z"
    }
   },
   "outputs": [
    {
     "data": {
      "text/html": [
       "<div>\n",
       "<style scoped>\n",
       "    .dataframe tbody tr th:only-of-type {\n",
       "        vertical-align: middle;\n",
       "    }\n",
       "\n",
       "    .dataframe tbody tr th {\n",
       "        vertical-align: top;\n",
       "    }\n",
       "\n",
       "    .dataframe thead th {\n",
       "        text-align: right;\n",
       "    }\n",
       "</style>\n",
       "<table border=\"1\" class=\"dataframe\">\n",
       "  <thead>\n",
       "    <tr style=\"text-align: right;\">\n",
       "      <th></th>\n",
       "      <th>survived</th>\n",
       "      <th>pclass</th>\n",
       "      <th>sex</th>\n",
       "      <th>age</th>\n",
       "      <th>sibsp</th>\n",
       "      <th>parch</th>\n",
       "      <th>fare</th>\n",
       "      <th>embarked</th>\n",
       "      <th>class</th>\n",
       "      <th>who</th>\n",
       "      <th>adult_male</th>\n",
       "      <th>deck</th>\n",
       "      <th>embark_town</th>\n",
       "      <th>alone</th>\n",
       "    </tr>\n",
       "  </thead>\n",
       "  <tbody>\n",
       "    <tr>\n",
       "      <th>0</th>\n",
       "      <td>0</td>\n",
       "      <td>3</td>\n",
       "      <td>1</td>\n",
       "      <td>22.0</td>\n",
       "      <td>1</td>\n",
       "      <td>0</td>\n",
       "      <td>7.2500</td>\n",
       "      <td>2</td>\n",
       "      <td>2</td>\n",
       "      <td>1</td>\n",
       "      <td>1</td>\n",
       "      <td>2</td>\n",
       "      <td>2</td>\n",
       "      <td>0</td>\n",
       "    </tr>\n",
       "    <tr>\n",
       "      <th>1</th>\n",
       "      <td>1</td>\n",
       "      <td>1</td>\n",
       "      <td>0</td>\n",
       "      <td>38.0</td>\n",
       "      <td>1</td>\n",
       "      <td>0</td>\n",
       "      <td>71.2833</td>\n",
       "      <td>0</td>\n",
       "      <td>0</td>\n",
       "      <td>2</td>\n",
       "      <td>0</td>\n",
       "      <td>2</td>\n",
       "      <td>0</td>\n",
       "      <td>0</td>\n",
       "    </tr>\n",
       "    <tr>\n",
       "      <th>2</th>\n",
       "      <td>1</td>\n",
       "      <td>3</td>\n",
       "      <td>0</td>\n",
       "      <td>26.0</td>\n",
       "      <td>0</td>\n",
       "      <td>0</td>\n",
       "      <td>7.9250</td>\n",
       "      <td>2</td>\n",
       "      <td>2</td>\n",
       "      <td>2</td>\n",
       "      <td>0</td>\n",
       "      <td>2</td>\n",
       "      <td>2</td>\n",
       "      <td>1</td>\n",
       "    </tr>\n",
       "    <tr>\n",
       "      <th>3</th>\n",
       "      <td>1</td>\n",
       "      <td>1</td>\n",
       "      <td>0</td>\n",
       "      <td>35.0</td>\n",
       "      <td>1</td>\n",
       "      <td>0</td>\n",
       "      <td>53.1000</td>\n",
       "      <td>2</td>\n",
       "      <td>0</td>\n",
       "      <td>2</td>\n",
       "      <td>0</td>\n",
       "      <td>2</td>\n",
       "      <td>2</td>\n",
       "      <td>0</td>\n",
       "    </tr>\n",
       "    <tr>\n",
       "      <th>4</th>\n",
       "      <td>0</td>\n",
       "      <td>3</td>\n",
       "      <td>1</td>\n",
       "      <td>35.0</td>\n",
       "      <td>0</td>\n",
       "      <td>0</td>\n",
       "      <td>8.0500</td>\n",
       "      <td>2</td>\n",
       "      <td>2</td>\n",
       "      <td>1</td>\n",
       "      <td>1</td>\n",
       "      <td>2</td>\n",
       "      <td>2</td>\n",
       "      <td>1</td>\n",
       "    </tr>\n",
       "  </tbody>\n",
       "</table>\n",
       "</div>"
      ],
      "text/plain": [
       "   survived  pclass  sex   age  sibsp  parch     fare  embarked  class  who  \\\n",
       "0         0       3    1  22.0      1      0   7.2500         2      2    1   \n",
       "1         1       1    0  38.0      1      0  71.2833         0      0    2   \n",
       "2         1       3    0  26.0      0      0   7.9250         2      2    2   \n",
       "3         1       1    0  35.0      1      0  53.1000         2      0    2   \n",
       "4         0       3    1  35.0      0      0   8.0500         2      2    1   \n",
       "\n",
       "   adult_male  deck  embark_town  alone  \n",
       "0           1     2            2      0  \n",
       "1           0     2            0      0  \n",
       "2           0     2            2      1  \n",
       "3           0     2            2      0  \n",
       "4           1     2            2      1  "
      ]
     },
     "execution_count": 128,
     "metadata": {},
     "output_type": "execute_result"
    }
   ],
   "source": [
    "data.head()"
   ]
  },
  {
   "cell_type": "code",
   "execution_count": 129,
   "metadata": {
    "ExecuteTime": {
     "end_time": "2019-09-28T20:16:08.073116Z",
     "start_time": "2019-09-28T20:16:08.063407Z"
    }
   },
   "outputs": [],
   "source": [
    "sc1  = StandardScaler()\n",
    "sc2 = StandardScaler()\n",
    "data['age'] = sc1.fit_transform(data.age.values.reshape(-1,1))\n",
    "data['fare'] = sc1.fit_transform(data.fare.values.reshape(-1,1))"
   ]
  },
  {
   "cell_type": "code",
   "execution_count": 130,
   "metadata": {
    "ExecuteTime": {
     "end_time": "2019-09-28T20:16:13.387745Z",
     "start_time": "2019-09-28T20:16:13.382957Z"
    }
   },
   "outputs": [
    {
     "data": {
      "text/plain": [
       "Index(['survived', 'pclass', 'sex', 'age', 'sibsp', 'parch', 'fare',\n",
       "       'embarked', 'class', 'who', 'adult_male', 'deck', 'embark_town',\n",
       "       'alone'],\n",
       "      dtype='object')"
      ]
     },
     "execution_count": 130,
     "metadata": {},
     "output_type": "execute_result"
    }
   ],
   "source": [
    "data.columns"
   ]
  },
  {
   "cell_type": "code",
   "execution_count": 131,
   "metadata": {
    "ExecuteTime": {
     "end_time": "2019-09-28T20:16:18.494825Z",
     "start_time": "2019-09-28T20:16:18.450531Z"
    }
   },
   "outputs": [
    {
     "name": "stdout",
     "output_type": "stream",
     "text": [
      "Mean Encoding Done\n"
     ]
    }
   ],
   "source": [
    "#Mean Encoding\n",
    "\n",
    "cols = ['pclass', 'sex', 'sibsp', 'parch', \n",
    "       'embarked', 'class', 'who', 'adult_male', 'deck', 'embark_town','alone']\n",
    "for col in cols:\n",
    "    means = data.groupby(col)['survived'].mean()\n",
    "    data[col+'_enc'] = data[col].map(means)\n",
    "print('Mean Encoding Done')"
   ]
  },
  {
   "cell_type": "code",
   "execution_count": 132,
   "metadata": {
    "ExecuteTime": {
     "end_time": "2019-09-28T20:19:13.002038Z",
     "start_time": "2019-09-28T20:19:12.963743Z"
    }
   },
   "outputs": [
    {
     "name": "stdout",
     "output_type": "stream",
     "text": [
      "Count Encoding Done\n"
     ]
    }
   ],
   "source": [
    "#Count Encoding\n",
    "cols = ['pclass', 'sex', 'sibsp', 'parch', \n",
    "       'embarked', 'class', 'who', 'adult_male', 'deck', 'embark_town','alone']\n",
    "for col in cols:\n",
    "#     freq = data[col].value_counts(dropna=False).to_dict() \n",
    "    data[col+'_freq'] = data[col].map(data[col].value_counts(dropna=False))\n",
    "print('Count Encoding Done')"
   ]
  },
  {
   "cell_type": "code",
   "execution_count": 133,
   "metadata": {
    "ExecuteTime": {
     "end_time": "2019-09-28T20:19:16.804517Z",
     "start_time": "2019-09-28T20:19:16.794304Z"
    }
   },
   "outputs": [],
   "source": [
    "y = data.survived\n",
    "data.drop('survived',1,inplace=True)"
   ]
  },
  {
   "cell_type": "code",
   "execution_count": 134,
   "metadata": {
    "ExecuteTime": {
     "end_time": "2019-09-28T20:19:20.510775Z",
     "start_time": "2019-09-28T20:19:20.461695Z"
    },
    "run_control": {
     "marked": false
    }
   },
   "outputs": [],
   "source": [
    "categories = np.where(data.dtypes!=np.float)[0]\n",
    "data=pd.get_dummies(data,columns=data.columns[categories].values)"
   ]
  },
  {
   "cell_type": "code",
   "execution_count": 135,
   "metadata": {
    "ExecuteTime": {
     "end_time": "2019-09-28T20:19:21.454751Z",
     "start_time": "2019-09-28T20:19:21.429689Z"
    },
    "scrolled": true
   },
   "outputs": [
    {
     "name": "stdout",
     "output_type": "stream",
     "text": [
      "<class 'pandas.core.frame.DataFrame'>\n",
      "RangeIndex: 891 entries, 0 to 890\n",
      "Data columns (total 96 columns):\n",
      "age                     891 non-null float64\n",
      "fare                    891 non-null float64\n",
      "pclass_enc              891 non-null float64\n",
      "sex_enc                 891 non-null float64\n",
      "sibsp_enc               891 non-null float64\n",
      "parch_enc               891 non-null float64\n",
      "embarked_enc            891 non-null float64\n",
      "class_enc               891 non-null float64\n",
      "who_enc                 891 non-null float64\n",
      "adult_male_enc          891 non-null float64\n",
      "deck_enc                891 non-null float64\n",
      "embark_town_enc         891 non-null float64\n",
      "alone_enc               891 non-null float64\n",
      "pclass_1                891 non-null uint8\n",
      "pclass_2                891 non-null uint8\n",
      "pclass_3                891 non-null uint8\n",
      "sex_0                   891 non-null uint8\n",
      "sex_1                   891 non-null uint8\n",
      "sibsp_0                 891 non-null uint8\n",
      "sibsp_1                 891 non-null uint8\n",
      "sibsp_2                 891 non-null uint8\n",
      "sibsp_3                 891 non-null uint8\n",
      "sibsp_4                 891 non-null uint8\n",
      "sibsp_5                 891 non-null uint8\n",
      "sibsp_8                 891 non-null uint8\n",
      "parch_0                 891 non-null uint8\n",
      "parch_1                 891 non-null uint8\n",
      "parch_2                 891 non-null uint8\n",
      "parch_3                 891 non-null uint8\n",
      "parch_4                 891 non-null uint8\n",
      "parch_5                 891 non-null uint8\n",
      "parch_6                 891 non-null uint8\n",
      "embarked_0              891 non-null uint8\n",
      "embarked_1              891 non-null uint8\n",
      "embarked_2              891 non-null uint8\n",
      "class_0                 891 non-null uint8\n",
      "class_1                 891 non-null uint8\n",
      "class_2                 891 non-null uint8\n",
      "who_0                   891 non-null uint8\n",
      "who_1                   891 non-null uint8\n",
      "who_2                   891 non-null uint8\n",
      "adult_male_0            891 non-null uint8\n",
      "adult_male_1            891 non-null uint8\n",
      "deck_0                  891 non-null uint8\n",
      "deck_1                  891 non-null uint8\n",
      "deck_2                  891 non-null uint8\n",
      "deck_3                  891 non-null uint8\n",
      "deck_4                  891 non-null uint8\n",
      "deck_5                  891 non-null uint8\n",
      "deck_6                  891 non-null uint8\n",
      "embark_town_0           891 non-null uint8\n",
      "embark_town_1           891 non-null uint8\n",
      "embark_town_2           891 non-null uint8\n",
      "alone_0                 891 non-null uint8\n",
      "alone_1                 891 non-null uint8\n",
      "pclass_freq_184         891 non-null uint8\n",
      "pclass_freq_216         891 non-null uint8\n",
      "pclass_freq_491         891 non-null uint8\n",
      "sex_freq_314            891 non-null uint8\n",
      "sex_freq_577            891 non-null uint8\n",
      "sibsp_freq_5            891 non-null uint8\n",
      "sibsp_freq_7            891 non-null uint8\n",
      "sibsp_freq_16           891 non-null uint8\n",
      "sibsp_freq_18           891 non-null uint8\n",
      "sibsp_freq_28           891 non-null uint8\n",
      "sibsp_freq_209          891 non-null uint8\n",
      "sibsp_freq_608          891 non-null uint8\n",
      "parch_freq_1            891 non-null uint8\n",
      "parch_freq_4            891 non-null uint8\n",
      "parch_freq_5            891 non-null uint8\n",
      "parch_freq_80           891 non-null uint8\n",
      "parch_freq_118          891 non-null uint8\n",
      "parch_freq_678          891 non-null uint8\n",
      "embarked_freq_77        891 non-null uint8\n",
      "embarked_freq_168       891 non-null uint8\n",
      "embarked_freq_646       891 non-null uint8\n",
      "class_freq_184          891 non-null uint8\n",
      "class_freq_216          891 non-null uint8\n",
      "class_freq_491          891 non-null uint8\n",
      "who_freq_83             891 non-null uint8\n",
      "who_freq_271            891 non-null uint8\n",
      "who_freq_537            891 non-null uint8\n",
      "adult_male_freq_354     891 non-null uint8\n",
      "adult_male_freq_537     891 non-null uint8\n",
      "deck_freq_4             891 non-null uint8\n",
      "deck_freq_13            891 non-null uint8\n",
      "deck_freq_15            891 non-null uint8\n",
      "deck_freq_32            891 non-null uint8\n",
      "deck_freq_33            891 non-null uint8\n",
      "deck_freq_47            891 non-null uint8\n",
      "deck_freq_747           891 non-null uint8\n",
      "embark_town_freq_77     891 non-null uint8\n",
      "embark_town_freq_168    891 non-null uint8\n",
      "embark_town_freq_646    891 non-null uint8\n",
      "alone_freq_354          891 non-null uint8\n",
      "alone_freq_537          891 non-null uint8\n",
      "dtypes: float64(13), uint8(83)\n",
      "memory usage: 162.8 KB\n"
     ]
    }
   ],
   "source": [
    "data.info()"
   ]
  },
  {
   "cell_type": "code",
   "execution_count": 136,
   "metadata": {
    "ExecuteTime": {
     "end_time": "2019-09-28T20:20:16.329961Z",
     "start_time": "2019-09-28T20:20:16.323420Z"
    }
   },
   "outputs": [],
   "source": [
    "X = data"
   ]
  },
  {
   "cell_type": "code",
   "execution_count": 161,
   "metadata": {
    "ExecuteTime": {
     "end_time": "2019-09-28T20:21:59.155614Z",
     "start_time": "2019-09-28T20:21:59.138309Z"
    }
   },
   "outputs": [
    {
     "data": {
      "text/plain": [
       "((668, 96), (223, 96), (668,), (223,))"
      ]
     },
     "execution_count": 161,
     "metadata": {},
     "output_type": "execute_result"
    }
   ],
   "source": [
    "X_train, X_test, y_train, y_test = train_test_split(X,y,test_size=.25, random_state=42)\n",
    "X_train.shape, X_test.shape, y_train.shape, y_test.shape"
   ]
  },
  {
   "cell_type": "code",
   "execution_count": 139,
   "metadata": {
    "ExecuteTime": {
     "end_time": "2019-09-28T20:20:54.068145Z",
     "start_time": "2019-09-28T20:20:54.064496Z"
    }
   },
   "outputs": [],
   "source": [
    "from sklearn.linear_model import LogisticRegression\n",
    "from sklearn.tree import DecisionTreeClassifier\n",
    "from sklearn.ensemble import RandomForestClassifier\n",
    "from sklearn.ensemble import ExtraTreesClassifier\n",
    "from sklearn.neighbors import KNeighborsClassifier\n",
    "from sklearn.svm import SVC\n",
    "import xgboost as xgb\n",
    "import catboost as cat\n",
    "# import lightgbm as lgt"
   ]
  },
  {
   "cell_type": "code",
   "execution_count": 140,
   "metadata": {
    "ExecuteTime": {
     "end_time": "2019-09-28T20:20:54.575465Z",
     "start_time": "2019-09-28T20:20:54.562424Z"
    }
   },
   "outputs": [],
   "source": [
    "model1 = ExtraTreesClassifier()\n",
    "model2 = DecisionTreeClassifier()\n",
    "model3 = RandomForestClassifier(n_estimators=1000)\n",
    "model4 = SVC(C=10.0,probability=True)\n",
    "model5 = LogisticRegression(C=1.0)\n",
    "model6 = xgb.XGBClassifier(learning_rate=0.01, n_estimators=1000)\n",
    "model7 = cat.CatBoostClassifier(iterations=1000, learning_rate=0.01)"
   ]
  },
  {
   "cell_type": "code",
   "execution_count": 141,
   "metadata": {
    "ExecuteTime": {
     "end_time": "2019-09-28T20:20:56.459495Z",
     "start_time": "2019-09-28T20:20:55.236884Z"
    }
   },
   "outputs": [
    {
     "data": {
      "text/plain": [
       "SVC(C=10.0, cache_size=200, class_weight=None, coef0=0.0,\n",
       "    decision_function_shape='ovr', degree=3, gamma='auto_deprecated',\n",
       "    kernel='rbf', max_iter=-1, probability=True, random_state=None,\n",
       "    shrinking=True, tol=0.001, verbose=False)"
      ]
     },
     "execution_count": 141,
     "metadata": {},
     "output_type": "execute_result"
    }
   ],
   "source": [
    "model1.fit(X_train, y_train)\n",
    "model2.fit(X_train, y_train)\n",
    "model3.fit(X_train, y_train)\n",
    "model4.fit(X_train, y_train)"
   ]
  },
  {
   "cell_type": "code",
   "execution_count": 142,
   "metadata": {
    "ExecuteTime": {
     "end_time": "2019-09-28T20:20:56.822451Z",
     "start_time": "2019-09-28T20:20:56.612290Z"
    }
   },
   "outputs": [
    {
     "name": "stdout",
     "output_type": "stream",
     "text": [
      "0.7802690582959642 0.7802690582959642 0.7757847533632287 0.820627802690583\n"
     ]
    }
   ],
   "source": [
    "pred1 = model1.predict(X_test)\n",
    "pred2 = model2.predict(X_test)\n",
    "pred3 = model3.predict(X_test)\n",
    "pred4 = model4.predict(X_test)\n",
    "print(model1.score(X_test,y_test),model2.score(X_test,y_test),model3.score(X_test,y_test),model4.score(X_test,y_test))"
   ]
  },
  {
   "cell_type": "code",
   "execution_count": 143,
   "metadata": {
    "ExecuteTime": {
     "end_time": "2019-09-28T20:21:02.905860Z",
     "start_time": "2019-09-28T20:21:01.551286Z"
    }
   },
   "outputs": [
    {
     "data": {
      "text/plain": [
       "0.7982062780269058"
      ]
     },
     "execution_count": 143,
     "metadata": {},
     "output_type": "execute_result"
    }
   ],
   "source": [
    "from sklearn.ensemble import VotingClassifier\n",
    "model = VotingClassifier(estimators=[('ET',model1),('DT',model2),('RF',model3),('SVC',model4)],voting='hard')\n",
    "model.fit(X_train, y_train)\n",
    "model.score(X_test,y_test)"
   ]
  },
  {
   "cell_type": "markdown",
   "metadata": {
    "ExecuteTime": {
     "end_time": "2019-09-28T13:22:21.027305Z",
     "start_time": "2019-09-28T13:22:21.016326Z"
    }
   },
   "source": [
    "Averaging"
   ]
  },
  {
   "cell_type": "code",
   "execution_count": 144,
   "metadata": {
    "ExecuteTime": {
     "end_time": "2019-09-28T20:21:08.930158Z",
     "start_time": "2019-09-28T20:21:08.812346Z"
    }
   },
   "outputs": [
    {
     "data": {
      "text/plain": [
       "(array([[123,  29],\n",
       "        [ 11,  60]], dtype=int64), 0.820627802690583)"
      ]
     },
     "execution_count": 144,
     "metadata": {},
     "output_type": "execute_result"
    }
   ],
   "source": [
    "preds1 = model1.predict_proba(X_test)\n",
    "preds2 = model2.predict_proba(X_test)\n",
    "preds3 = model3.predict_proba(X_test)\n",
    "preds4 = model4.predict_proba(X_test)\n",
    "\n",
    "finalpred = (preds2+preds3+preds4)/4\n",
    "finalpred_C = np.where(finalpred[:,1]>0.5,1,0)\n",
    "finalpred_C\n",
    "confusion_matrix(finalpred_C,y_test),accuracy_score(y_test,finalpred_C)"
   ]
  },
  {
   "cell_type": "markdown",
   "metadata": {
    "ExecuteTime": {
     "end_time": "2019-09-28T13:22:31.330253Z",
     "start_time": "2019-09-28T13:22:31.321277Z"
    }
   },
   "source": [
    "Weighted_Averaging"
   ]
  },
  {
   "cell_type": "code",
   "execution_count": 145,
   "metadata": {
    "ExecuteTime": {
     "end_time": "2019-09-28T20:21:14.457025Z",
     "start_time": "2019-09-28T20:21:14.359708Z"
    }
   },
   "outputs": [],
   "source": [
    "preds1 = model1.predict(X_test)\n",
    "preds2 = model2.predict(X_test)\n",
    "preds3 = model3.predict(X_test)\n",
    "preds4 = model4.predict(X_test)"
   ]
  },
  {
   "cell_type": "code",
   "execution_count": 146,
   "metadata": {
    "ExecuteTime": {
     "end_time": "2019-09-28T20:21:15.659214Z",
     "start_time": "2019-09-28T20:21:15.643801Z"
    }
   },
   "outputs": [
    {
     "name": "stdout",
     "output_type": "stream",
     "text": [
      "0.7737715914807982\n",
      "0.7794314942143216\n",
      "0.7738135166862318\n",
      "0.785594499413047\n",
      "0.826387724299849\n",
      "0.851542847559953\n"
     ]
    }
   ],
   "source": [
    "print(roc_auc_score(y_test, preds1))\n",
    "print(roc_auc_score(y_test, preds2))\n",
    "print(roc_auc_score(y_test, preds3))  \n",
    "print(roc_auc_score(y_test, (preds1 + preds3)*0.5))  \n",
    "print(roc_auc_score(y_test, (preds1 + preds2 + preds3*0.5)*0.33))\n",
    "print(roc_auc_score(y_test, (preds1*0.5 + preds2*0.5 + preds3 + preds4*0.5)*0.33))"
   ]
  },
  {
   "cell_type": "code",
   "execution_count": 147,
   "metadata": {
    "ExecuteTime": {
     "end_time": "2019-09-28T20:21:19.554498Z",
     "start_time": "2019-09-28T20:21:19.545570Z"
    }
   },
   "outputs": [
    {
     "data": {
      "text/plain": [
       "array([0.66 , 0.165, 0.   , 0.825, 0.33 , 0.825, 0.825, 0.   , 0.66 ,\n",
       "       0.825, 0.   , 0.   , 0.   , 0.   , 0.   , 0.825, 0.165, 0.825,\n",
       "       0.   , 0.   , 0.   , 0.495, 0.   , 0.   , 0.   , 0.   , 0.165,\n",
       "       0.165, 0.   , 0.495, 0.   , 0.825, 0.66 , 0.825, 0.   , 0.   ,\n",
       "       0.   , 0.825, 0.825, 0.   , 0.   , 0.165, 0.   , 0.   , 0.165,\n",
       "       0.165, 0.33 , 0.   , 0.165, 0.495, 0.66 , 0.825, 0.   , 0.825,\n",
       "       0.   , 0.825, 0.165, 0.825, 0.66 , 0.33 , 0.33 , 0.825, 0.825,\n",
       "       0.   , 0.   , 0.825, 0.   , 0.   , 0.66 , 0.825, 0.825, 0.825,\n",
       "       0.66 , 0.825, 0.   , 0.   , 0.825, 0.825, 0.825, 0.33 , 0.165,\n",
       "       0.825, 0.825, 0.   , 0.66 , 0.165, 0.825, 0.825, 0.   , 0.   ,\n",
       "       0.825, 0.   , 0.   , 0.   , 0.   , 0.   , 0.165, 0.   , 0.825,\n",
       "       0.   , 0.   , 0.   , 0.825, 0.   , 0.   , 0.66 , 0.825, 0.495,\n",
       "       0.   , 0.495, 0.825, 0.   , 0.825, 0.66 , 0.   , 0.   , 0.66 ,\n",
       "       0.66 , 0.825, 0.   , 0.   , 0.825, 0.825, 0.825, 0.   , 0.   ,\n",
       "       0.825, 0.66 , 0.165, 0.   , 0.825, 0.66 , 0.   , 0.33 , 0.66 ,\n",
       "       0.165, 0.825, 0.   , 0.   , 0.165, 0.   , 0.825, 0.   , 0.   ,\n",
       "       0.165, 0.825, 0.   , 0.495, 0.825, 0.   , 0.   , 0.   , 0.   ,\n",
       "       0.66 , 0.   , 0.165, 0.33 , 0.825, 0.825, 0.825, 0.   , 0.   ,\n",
       "       0.   , 0.825, 0.   , 0.495, 0.   , 0.825, 0.   , 0.   , 0.66 ,\n",
       "       0.825, 0.66 , 0.66 , 0.   , 0.   , 0.   , 0.825, 0.495, 0.495,\n",
       "       0.   , 0.33 , 0.495, 0.165, 0.66 , 0.   , 0.   , 0.   , 0.   ,\n",
       "       0.825, 0.   , 0.   , 0.   , 0.   , 0.825, 0.825, 0.825, 0.   ,\n",
       "       0.825, 0.   , 0.   , 0.66 , 0.825, 0.165, 0.   , 0.33 , 0.   ,\n",
       "       0.165, 0.   , 0.   , 0.495, 0.165, 0.825, 0.   , 0.   , 0.   ,\n",
       "       0.825, 0.   , 0.825, 0.   , 0.   , 0.825, 0.   ])"
      ]
     },
     "execution_count": 147,
     "metadata": {},
     "output_type": "execute_result"
    }
   ],
   "source": [
    "(preds1*0.5 + preds2*0.5 + preds3 + preds4*0.5)*0.33"
   ]
  },
  {
   "cell_type": "code",
   "execution_count": 148,
   "metadata": {
    "ExecuteTime": {
     "end_time": "2019-09-28T20:21:20.030605Z",
     "start_time": "2019-09-28T20:21:19.909696Z"
    }
   },
   "outputs": [
    {
     "data": {
      "text/plain": [
       "array([[0.32371842, 0.50128158],\n",
       "       [0.63197788, 0.19302212],\n",
       "       [0.79145103, 0.03354897],\n",
       "       [0.02491613, 0.80008387],\n",
       "       [0.41798205, 0.40701795],\n",
       "       [0.02542646, 0.79957354],\n",
       "       [0.13396175, 0.69103825],\n",
       "       [0.78164453, 0.04335547],\n",
       "       [0.34784674, 0.47715326],\n",
       "       [0.04419314, 0.78080686],\n",
       "       [0.7286349 , 0.0963651 ],\n",
       "       [0.76945511, 0.05554489],\n",
       "       [0.76779537, 0.05720463],\n",
       "       [0.78258156, 0.04241844],\n",
       "       [0.79774106, 0.02725894],\n",
       "       [0.01953098, 0.80546902],\n",
       "       [0.52807199, 0.29692801],\n",
       "       [0.03814495, 0.78685505],\n",
       "       [0.79804993, 0.02695007],\n",
       "       [0.75027314, 0.07472686],\n",
       "       [0.79948545, 0.02551455],\n",
       "       [0.39069956, 0.43430044],\n",
       "       [0.71811735, 0.10688265],\n",
       "       [0.79951185, 0.02548815],\n",
       "       [0.79815703, 0.02684297],\n",
       "       [0.73213357, 0.09286643],\n",
       "       [0.61422704, 0.21077296],\n",
       "       [0.63226695, 0.19273305],\n",
       "       [0.70533861, 0.11966139],\n",
       "       [0.46136569, 0.36363431],\n",
       "       [0.79498536, 0.03001464],\n",
       "       [0.18972924, 0.63527076],\n",
       "       [0.27654363, 0.54845637],\n",
       "       [0.19678001, 0.62821999],\n",
       "       [0.58925694, 0.23574306],\n",
       "       [0.75918601, 0.06581399],\n",
       "       [0.71820468, 0.10679532],\n",
       "       [0.13396175, 0.69103825],\n",
       "       [0.12340211, 0.70159789],\n",
       "       [0.79948545, 0.02551455],\n",
       "       [0.79180903, 0.03319097],\n",
       "       [0.45041283, 0.37458717],\n",
       "       [0.7994881 , 0.0255119 ],\n",
       "       [0.70432734, 0.12067266],\n",
       "       [0.54124203, 0.28375797],\n",
       "       [0.62370893, 0.20129107],\n",
       "       [0.47391349, 0.35108651],\n",
       "       [0.79950921, 0.02549079],\n",
       "       [0.54730667, 0.27769333],\n",
       "       [0.36186181, 0.46313819],\n",
       "       [0.21919945, 0.60580055],\n",
       "       [0.02377098, 0.80122902],\n",
       "       [0.81556599, 0.00943401],\n",
       "       [0.03721433, 0.78778567],\n",
       "       [0.79308889, 0.03191111],\n",
       "       [0.03155957, 0.79344043],\n",
       "       [0.63124996, 0.19375004],\n",
       "       [0.00995099, 0.81504901],\n",
       "       [0.18783346, 0.63716654],\n",
       "       [0.3225418 , 0.5024582 ],\n",
       "       [0.39910523, 0.42589477],\n",
       "       [0.02759977, 0.79740023],\n",
       "       [0.09254268, 0.73245732],\n",
       "       [0.71994333, 0.10505667],\n",
       "       [0.70432734, 0.12067266],\n",
       "       [0.00699229, 0.81800771],\n",
       "       [0.7830674 , 0.0419326 ],\n",
       "       [0.74734225, 0.07765775],\n",
       "       [0.30781584, 0.51718416],\n",
       "       [0.0069062 , 0.8180938 ],\n",
       "       [0.03811123, 0.78688877],\n",
       "       [0.0086971 , 0.8163029 ],\n",
       "       [0.29600463, 0.52899537],\n",
       "       [0.00244779, 0.82255221],\n",
       "       [0.79535996, 0.02964004],\n",
       "       [0.80357282, 0.02142718],\n",
       "       [0.14001931, 0.68498069],\n",
       "       [0.00648   , 0.81852   ],\n",
       "       [0.01954035, 0.80545965],\n",
       "       [0.4892683 , 0.3357317 ],\n",
       "       [0.65186032, 0.17313968],\n",
       "       [0.01858236, 0.80641764],\n",
       "       [0.0026439 , 0.8223561 ],\n",
       "       [0.79040116, 0.03459884],\n",
       "       [0.23572048, 0.58927952],\n",
       "       [0.57238748, 0.25261252],\n",
       "       [0.00372465, 0.82127535],\n",
       "       [0.00333916, 0.82166084],\n",
       "       [0.55593535, 0.26906465],\n",
       "       [0.7817752 , 0.0432248 ],\n",
       "       [0.28850772, 0.53649228],\n",
       "       [0.60104061, 0.22395939],\n",
       "       [0.75905611, 0.06594389],\n",
       "       [0.79275791, 0.03224209],\n",
       "       [0.79948545, 0.02551455],\n",
       "       [0.69064862, 0.13435138],\n",
       "       [0.60982715, 0.21517285],\n",
       "       [0.77869644, 0.04630356],\n",
       "       [0.01095673, 0.81404327],\n",
       "       [0.58003387, 0.24496613],\n",
       "       [0.79383967, 0.03116033],\n",
       "       [0.79023304, 0.03476696],\n",
       "       [0.00432543, 0.82067457],\n",
       "       [0.79312057, 0.03187943],\n",
       "       [0.79156338, 0.03343662],\n",
       "       [0.2380233 , 0.5869767 ],\n",
       "       [0.02505115, 0.79994885],\n",
       "       [0.40661323, 0.41838677],\n",
       "       [0.79488099, 0.03011901],\n",
       "       [0.52662204, 0.29837796],\n",
       "       [0.02802182, 0.79697818],\n",
       "       [0.79485235, 0.03014765],\n",
       "       [0.01014616, 0.81485384],\n",
       "       [0.1083098 , 0.7166902 ],\n",
       "       [0.74166247, 0.08333753],\n",
       "       [0.79952398, 0.02547602],\n",
       "       [0.24096523, 0.58403477],\n",
       "       [0.20639671, 0.61860329],\n",
       "       [0.02428211, 0.80071789],\n",
       "       [0.68742256, 0.13757744],\n",
       "       [0.80085748, 0.02414252],\n",
       "       [0.00576806, 0.81923194],\n",
       "       [0.01789411, 0.80710589],\n",
       "       [0.04541649, 0.77958351],\n",
       "       [0.7874293 , 0.0375707 ],\n",
       "       [0.77913821, 0.04586179],\n",
       "       [0.01939611, 0.80560389],\n",
       "       [0.31850179, 0.50649821],\n",
       "       [0.63404299, 0.19095701],\n",
       "       [0.79662863, 0.02837137],\n",
       "       [0.03264575, 0.79235425],\n",
       "       [0.32371842, 0.50128158],\n",
       "       [0.79947031, 0.02552969],\n",
       "       [0.41054344, 0.41445656],\n",
       "       [0.23325326, 0.59174674],\n",
       "       [0.59945658, 0.22554342],\n",
       "       [0.01187824, 0.81312176],\n",
       "       [0.76755343, 0.05744657],\n",
       "       [0.75647155, 0.06852845],\n",
       "       [0.39293628, 0.43206372],\n",
       "       [0.79751609, 0.02748391],\n",
       "       [0.02765358, 0.79734642],\n",
       "       [0.7988171 , 0.0261829 ],\n",
       "       [0.75458878, 0.07041122],\n",
       "       [0.60659392, 0.21840608],\n",
       "       [0.02470142, 0.80029858],\n",
       "       [0.79947058, 0.02552942],\n",
       "       [0.33612928, 0.48887072],\n",
       "       [0.00666185, 0.81833815],\n",
       "       [0.78329195, 0.04170805],\n",
       "       [0.76424745, 0.06075255],\n",
       "       [0.79214151, 0.03285849],\n",
       "       [0.71381848, 0.11118152],\n",
       "       [0.25119026, 0.57380974],\n",
       "       [0.7994881 , 0.0255119 ],\n",
       "       [0.54730667, 0.27769333],\n",
       "       [0.46856924, 0.35643076],\n",
       "       [0.09888621, 0.72611379],\n",
       "       [0.02594083, 0.79905917],\n",
       "       [0.18611403, 0.63888597],\n",
       "       [0.70424635, 0.12075365],\n",
       "       [0.70839804, 0.11660196],\n",
       "       [0.77027097, 0.05472903],\n",
       "       [0.01011494, 0.81488506],\n",
       "       [0.78119512, 0.04380488],\n",
       "       [0.39468554, 0.43031446],\n",
       "       [0.78060178, 0.04439822],\n",
       "       [0.01627486, 0.80872514],\n",
       "       [0.79948578, 0.02551422],\n",
       "       [0.79419239, 0.03080761],\n",
       "       [0.2015007 , 0.6234993 ],\n",
       "       [0.02311725, 0.80188275],\n",
       "       [0.10831047, 0.71668953],\n",
       "       [0.28173426, 0.54326574],\n",
       "       [0.7703743 , 0.0546257 ],\n",
       "       [0.79908547, 0.02591453],\n",
       "       [0.78444466, 0.04055534],\n",
       "       [0.02051261, 0.80448739],\n",
       "       [0.33119091, 0.49380909],\n",
       "       [0.44251543, 0.38248457],\n",
       "       [0.78229464, 0.04270536],\n",
       "       [0.46590875, 0.35909125],\n",
       "       [0.43253788, 0.39246212],\n",
       "       [0.41192999, 0.41307001],\n",
       "       [0.16240728, 0.66259272],\n",
       "       [0.75936807, 0.06563193],\n",
       "       [0.78788632, 0.03711368],\n",
       "       [0.79948545, 0.02551455],\n",
       "       [0.77839939, 0.04660061],\n",
       "       [0.02006229, 0.80493771],\n",
       "       [0.80940085, 0.01559915],\n",
       "       [0.79912648, 0.02587352],\n",
       "       [0.74094101, 0.08405899],\n",
       "       [0.79620296, 0.02879704],\n",
       "       [0.0237004 , 0.8012996 ],\n",
       "       [0.02419324, 0.80080676],\n",
       "       [0.01238964, 0.81261036],\n",
       "       [0.79873989, 0.02626011],\n",
       "       [0.01910395, 0.80589605],\n",
       "       [0.60092402, 0.22407598],\n",
       "       [0.79161324, 0.03338676],\n",
       "       [0.36355532, 0.46144468],\n",
       "       [0.02690605, 0.79809395],\n",
       "       [0.68001822, 0.14498178],\n",
       "       [0.74488448, 0.08011552],\n",
       "       [0.35186523, 0.47313477],\n",
       "       [0.79620275, 0.02879725],\n",
       "       [0.43617336, 0.38882664],\n",
       "       [0.59775396, 0.22724604],\n",
       "       [0.79597506, 0.02902494],\n",
       "       [0.4588696 , 0.3661304 ],\n",
       "       [0.58381875, 0.24118125],\n",
       "       [0.00832632, 0.81667368],\n",
       "       [0.79275771, 0.03224229],\n",
       "       [0.76779537, 0.05720463],\n",
       "       [0.64928081, 0.17571919],\n",
       "       [0.0291184 , 0.7958816 ],\n",
       "       [0.74025204, 0.08474796],\n",
       "       [0.02181754, 0.80318246],\n",
       "       [0.7817752 , 0.0432248 ],\n",
       "       [0.79948545, 0.02551455],\n",
       "       [0.01964161, 0.80535839],\n",
       "       [0.80185495, 0.02314505]])"
      ]
     },
     "execution_count": 148,
     "metadata": {},
     "output_type": "execute_result"
    }
   ],
   "source": [
    "pred1 = model1.predict_proba(X_test)\n",
    "pred2 = model2.predict_proba(X_test)\n",
    "pred3 = model3.predict_proba(X_test)\n",
    "pred4 = model4.predict_proba(X_test)\n",
    "\n",
    "final_pred = ((pred1*0.5 + pred2*0.5 + pred3 + pred4*0.5)*0.33)\n",
    "# final_pred = (preds2*0.5 + preds3 + preds4*0.5)*0.33\n",
    "final_pred"
   ]
  },
  {
   "cell_type": "code",
   "execution_count": 149,
   "metadata": {
    "ExecuteTime": {
     "end_time": "2019-09-28T20:21:24.178934Z",
     "start_time": "2019-09-28T20:21:24.163862Z"
    }
   },
   "outputs": [
    {
     "data": {
      "text/plain": [
       "(array([[117,  25],\n",
       "        [ 17,  64]], dtype=int64), 0.8116591928251121)"
      ]
     },
     "execution_count": 149,
     "metadata": {},
     "output_type": "execute_result"
    }
   ],
   "source": [
    "final_pred_C = np.where(final_pred[:,1]>0.5,1,0)\n",
    "final_pred_C\n",
    "confusion_matrix(final_pred_C,y_test),accuracy_score(y_test,final_pred_C)"
   ]
  },
  {
   "cell_type": "markdown",
   "metadata": {},
   "source": [
    "Stacking"
   ]
  },
  {
   "cell_type": "code",
   "execution_count": 150,
   "metadata": {
    "ExecuteTime": {
     "end_time": "2019-09-28T20:21:29.560144Z",
     "start_time": "2019-09-28T20:21:29.550542Z"
    }
   },
   "outputs": [],
   "source": [
    "def Stacking(model, train,y, test, n_fold):\n",
    "    folds = StratifiedKFold(n_splits=n_fold, random_state=1)\n",
    "    test_pred = np.empty((0,1),float)\n",
    "    train_pred = np.empty((0,1),float)\n",
    "    for train_indices, val_indices in folds.split(train,y.values):\n",
    "        print(train_indices.shape, val_indices.shape)\n",
    "        x_train, x_val = train.iloc[train_indices], train.iloc[val_indices]\n",
    "        y_train, y_val = y.iloc[train_indices], y.iloc[val_indices]   \n",
    "        model.fit(X=x_train, y=y_train)\n",
    "        train_pred = np.append(train_pred, model.predict(x_val))\n",
    "        print('train_pred_shape',train_pred.shape)\n",
    "    test_pred = np.append(test_pred, model.predict(test))\n",
    "    print('test_pred_shape',test_pred.shape)\n",
    "    return test_pred.reshape(-1,1), train_pred"
   ]
  },
  {
   "cell_type": "code",
   "execution_count": 151,
   "metadata": {
    "ExecuteTime": {
     "end_time": "2019-09-28T20:21:30.051999Z",
     "start_time": "2019-09-28T20:21:29.922139Z"
    },
    "scrolled": true
   },
   "outputs": [
    {
     "name": "stdout",
     "output_type": "stream",
     "text": [
      "(600,) (68,)\n",
      "train_pred_shape (68,)\n",
      "(600,) (68,)\n",
      "train_pred_shape (136,)\n",
      "(600,) (68,)\n",
      "train_pred_shape (204,)\n",
      "(601,) (67,)\n",
      "train_pred_shape (271,)\n",
      "(601,) (67,)\n",
      "train_pred_shape (338,)\n",
      "(602,) (66,)\n",
      "train_pred_shape (404,)\n",
      "(602,) (66,)\n",
      "train_pred_shape (470,)\n",
      "(602,) (66,)\n",
      "train_pred_shape (536,)\n",
      "(602,) (66,)\n",
      "train_pred_shape (602,)\n",
      "(602,) (66,)\n",
      "train_pred_shape (668,)\n",
      "test_pred_shape (223,)\n"
     ]
    }
   ],
   "source": [
    "model1 = DecisionTreeClassifier(random_state=42)\n",
    "\n",
    "test_pred1, train_pred1 = Stacking(model=model1, n_fold=10, train=X_train, test = X_test, y=y_train)\n",
    "\n",
    "train_pred1 = pd.DataFrame(train_pred1)\n",
    "test_pred1 = pd.DataFrame(test_pred1)\n",
    "# train_pred1"
   ]
  },
  {
   "cell_type": "code",
   "execution_count": 152,
   "metadata": {
    "ExecuteTime": {
     "end_time": "2019-09-28T20:21:30.434253Z",
     "start_time": "2019-09-28T20:21:30.321946Z"
    },
    "scrolled": true
   },
   "outputs": [
    {
     "name": "stdout",
     "output_type": "stream",
     "text": [
      "(600,) (68,)\n",
      "train_pred_shape (68,)\n",
      "(600,) (68,)\n",
      "train_pred_shape (136,)\n",
      "(600,) (68,)\n",
      "train_pred_shape (204,)\n",
      "(601,) (67,)\n",
      "train_pred_shape (271,)\n",
      "(601,) (67,)\n",
      "train_pred_shape (338,)\n",
      "(602,) (66,)\n",
      "train_pred_shape (404,)\n",
      "(602,) (66,)\n",
      "train_pred_shape (470,)\n",
      "(602,) (66,)\n",
      "train_pred_shape (536,)\n",
      "(602,) (66,)\n",
      "train_pred_shape (602,)\n",
      "(602,) (66,)\n",
      "train_pred_shape (668,)\n",
      "test_pred_shape (223,)\n"
     ]
    }
   ],
   "source": [
    "model2 = KNeighborsClassifier()\n",
    "\n",
    "test_pred2, train_pred2 = Stacking(model=model1, n_fold=10, train=X_train, test = X_test, y=y_train)\n",
    "\n",
    "train_pred2 = pd.DataFrame(train_pred2)\n",
    "test_pred2 = pd.DataFrame(test_pred2)"
   ]
  },
  {
   "cell_type": "code",
   "execution_count": 153,
   "metadata": {
    "ExecuteTime": {
     "end_time": "2019-09-28T20:21:30.737481Z",
     "start_time": "2019-09-28T20:21:30.716946Z"
    }
   },
   "outputs": [
    {
     "data": {
      "text/plain": [
       "0.7623318385650224"
      ]
     },
     "execution_count": 153,
     "metadata": {},
     "output_type": "execute_result"
    }
   ],
   "source": [
    "df = pd.concat([train_pred1, train_pred2], axis=1)\n",
    "df_test = pd.concat([test_pred1, test_pred2], axis=1)\n",
    "\n",
    "model = LogisticRegression(random_state=42)\n",
    "model.fit(df, y_train)\n",
    "model.score(df_test, y_test)"
   ]
  },
  {
   "cell_type": "markdown",
   "metadata": {},
   "source": [
    "KFold Working"
   ]
  },
  {
   "cell_type": "code",
   "execution_count": 154,
   "metadata": {
    "ExecuteTime": {
     "end_time": "2019-09-28T20:21:32.595385Z",
     "start_time": "2019-09-28T20:21:32.583958Z"
    }
   },
   "outputs": [
    {
     "name": "stdout",
     "output_type": "stream",
     "text": [
      "KFold(n_splits=5, random_state=None, shuffle=True)\n"
     ]
    }
   ],
   "source": [
    "n_fold = 5\n",
    "folds = KFold(n_splits=n_fold,shuffle=True)\n",
    "print(folds)"
   ]
  },
  {
   "cell_type": "code",
   "execution_count": 155,
   "metadata": {
    "ExecuteTime": {
     "end_time": "2019-09-28T20:21:32.990202Z",
     "start_time": "2019-09-28T20:21:32.963840Z"
    }
   },
   "outputs": [
    {
     "name": "stdout",
     "output_type": "stream",
     "text": [
      "[  0   1   2   3   6   9  10  12  13  14  15  16  17  18  19  20  21  22\n",
      "  23  24  25  26  27  28  29  30  31  32  33  34  37  38  39  40  42  44\n",
      "  47  49  51  52  53  54  55  56  57  58  59  60  61  64  65  66  67  69\n",
      "  70  71  72  73  74  76  77  78  79  80  81  82  83  85  87  88  89  90\n",
      "  91  92  93  94  95  96  97  98  99 100 101 102 104 105 106 108 109 110\n",
      " 111 112 113 114 115 116 118 119 120 121 122 123 124 126 127 128 130 131\n",
      " 132 133 134 135 136 137 138 139 141 143 144 145 147 149 150 151 152 153\n",
      " 154 155 156 157 158 159 160 161 162 163 164 165 166 167 169 170 171 174\n",
      " 175 176 177 178 179 180 181 182 183 184 185 186 187 188 189 190 191 193\n",
      " 194 195 197 198 200 201 202 203 204 205 206 208 213 214 215 216 217 218\n",
      " 219 220 221 222 224 225 226 228 229 231 232 233 234 235 236 237 239 241\n",
      " 242 243 244 245 246 247 249 250 251 254 255 256 257 258 259 261 262 263\n",
      " 264 266 267 268 269 271 273 274 276 277 279 280 282 283 284 285 286 287\n",
      " 288 289 291 292 293 294 295 296 298 300 302 303 304 305 306 308 309 310\n",
      " 311 312 313 314 315 316 317 318 320 321 322 323 324 325 327 329 330 332\n",
      " 334 335 336 337 338 339 340 344 345 346 347 348 349 351 352 353 354 355\n",
      " 356 357 358 360 361 362 363 364 365 366 367 368 370 371 372 373 374 375\n",
      " 376 377 378 380 381 383 384 386 387 388 390 392 395 396 397 398 399 401\n",
      " 402 403 404 405 406 407 408 409 410 411 412 413 414 415 416 418 419 420\n",
      " 421 422 423 424 425 427 428 430 431 433 434 435 436 437 439 441 442 443\n",
      " 446 447 448 449 451 452 453 454 456 457 458 459 460 461 464 465 467 468\n",
      " 469 470 471 472 473 474 475 476 477 478 479 480 481 484 485 487 488 489\n",
      " 490 494 495 496 497 498 499 501 502 503 504 506 507 508 509 510 511 512\n",
      " 513 514 515 516 517 518 519 520 521 522 523 524 526 527 528 529 530 531\n",
      " 532 533 534 535 536 538 540 541 543 544 545 546 548 552 553 554 555 557\n",
      " 558 559 560 561 563 567 568 569 570 571 572 574 575 577 579 580 581 582\n",
      " 583 585 586 588 589 591 592 593 594 596 597 598 599 600 601 602 603 604\n",
      " 605 607 608 609 610 613 615 616 617 618 619 620 622 624 625 626 627 628\n",
      " 629 630 631 632 633 634 636 637 638 639 640 641 643 645 646 647 648 649\n",
      " 650 651 652 653 655 656 657 658 659 660 665 666]\n",
      "[  0   2   3   4   5   6   7   8   9  10  11  12  13  14  15  16  17  18\n",
      "  19  20  21  22  23  24  26  28  29  30  31  33  35  36  37  38  39  40\n",
      "  41  42  43  45  46  47  48  50  51  52  53  54  55  56  57  58  60  61\n",
      "  62  63  64  65  68  69  70  71  72  73  74  75  76  79  81  83  84  85\n",
      "  86  87  89  90  92  93  94  95  96  97  98  99 100 101 102 103 104 106\n",
      " 107 108 109 112 113 114 115 116 117 118 120 121 122 123 124 125 126 127\n",
      " 128 129 130 132 133 134 136 137 138 139 140 141 142 143 144 145 146 147\n",
      " 148 149 151 153 154 156 157 158 160 161 162 163 164 165 167 168 169 170\n",
      " 172 173 175 177 178 179 180 181 182 183 184 185 186 187 188 189 190 192\n",
      " 193 194 195 196 197 198 199 200 201 202 204 206 207 208 209 210 211 212\n",
      " 217 218 219 220 221 222 223 224 227 228 229 230 231 233 234 235 236 237\n",
      " 238 239 240 241 242 245 246 247 248 249 250 252 253 257 259 260 261 262\n",
      " 264 265 267 270 272 273 274 275 276 277 278 279 280 281 282 284 285 288\n",
      " 289 290 291 292 295 296 297 299 300 301 302 304 305 306 307 308 309 311\n",
      " 314 316 317 318 319 320 321 325 326 328 330 331 332 333 334 335 336 337\n",
      " 339 340 341 342 343 344 345 346 347 349 350 351 352 353 354 355 356 357\n",
      " 358 359 360 361 363 366 367 368 369 370 372 373 375 376 377 378 379 380\n",
      " 381 382 383 384 385 386 387 389 390 391 392 393 394 395 396 397 398 399\n",
      " 400 401 402 403 404 405 407 408 409 410 411 412 413 414 415 416 417 418\n",
      " 419 420 422 423 424 425 426 427 428 429 431 432 433 434 435 436 437 438\n",
      " 439 440 441 442 443 444 445 446 447 448 449 450 451 452 453 454 455 457\n",
      " 459 460 462 463 464 465 466 468 469 470 471 472 473 474 478 480 481 482\n",
      " 483 484 486 487 488 489 490 491 492 493 494 495 497 498 499 500 501 502\n",
      " 503 504 505 507 508 509 510 511 512 513 514 516 519 520 521 522 523 524\n",
      " 525 529 534 537 538 539 540 542 545 547 548 549 550 551 552 553 554 555\n",
      " 556 560 561 562 563 564 565 566 569 570 572 573 576 577 578 579 580 581\n",
      " 583 584 586 587 588 590 592 593 594 595 596 597 598 600 601 602 603 605\n",
      " 606 608 609 610 611 612 613 614 615 616 618 620 621 622 623 625 626 628\n",
      " 632 634 635 636 637 638 639 640 641 642 643 644 645 646 648 649 650 652\n",
      " 653 654 655 656 658 661 662 663 664 665 666 667]\n",
      "[  1   2   3   4   5   7   8  10  11  13  14  16  17  18  20  21  23  25\n",
      "  26  27  31  32  33  34  35  36  37  39  40  41  42  43  44  45  46  48\n",
      "  49  50  51  54  57  59  61  62  63  64  65  66  67  68  70  71  73  75\n",
      "  77  78  79  80  82  84  85  86  88  89  91  92  94  96  97 100 102 103\n",
      " 104 105 106 107 108 110 111 113 114 115 117 118 119 120 121 123 124 125\n",
      " 126 128 129 130 131 134 135 136 137 139 140 141 142 143 145 146 147 148\n",
      " 149 150 152 153 155 157 159 160 162 163 164 165 166 167 168 169 170 171\n",
      " 172 173 174 175 176 177 178 179 180 182 184 185 186 188 191 192 193 194\n",
      " 196 197 199 200 202 203 204 205 207 208 209 210 211 212 213 214 215 216\n",
      " 218 219 221 222 223 225 226 227 228 230 231 232 234 235 236 237 238 240\n",
      " 241 243 244 245 246 247 248 249 250 251 252 253 254 255 256 257 258 260\n",
      " 261 262 263 264 265 266 267 268 269 270 271 272 273 275 276 277 278 279\n",
      " 280 281 282 283 284 286 287 288 290 292 293 294 296 297 298 299 301 302\n",
      " 303 304 305 306 307 308 309 310 311 312 313 315 316 317 318 319 320 321\n",
      " 322 323 324 325 326 327 328 329 330 331 332 333 334 338 339 340 341 342\n",
      " 343 344 346 347 348 349 350 351 352 353 354 355 358 359 360 361 362 364\n",
      " 365 367 368 369 370 371 372 373 374 375 376 377 379 380 381 382 383 384\n",
      " 385 386 387 388 389 390 391 392 393 394 397 398 399 400 404 405 406 407\n",
      " 408 410 411 412 413 415 416 417 418 420 421 422 424 425 426 427 428 429\n",
      " 430 431 432 434 436 438 439 440 442 444 445 446 447 449 450 451 452 454\n",
      " 455 456 457 458 459 460 461 462 463 464 465 466 467 469 470 472 473 474\n",
      " 475 476 477 478 479 481 482 483 484 485 486 487 488 489 490 491 492 493\n",
      " 496 497 498 499 500 501 502 503 505 506 507 511 515 516 517 518 522 524\n",
      " 525 526 527 528 529 530 531 532 533 534 535 536 537 538 539 540 541 542\n",
      " 543 544 545 546 547 548 549 550 551 553 554 556 557 558 559 562 563 564\n",
      " 565 566 567 568 569 571 572 573 574 575 576 577 578 580 582 583 584 585\n",
      " 586 587 589 590 591 593 594 595 597 598 599 600 601 603 604 605 606 607\n",
      " 608 610 611 612 614 616 617 619 620 621 623 624 625 626 627 629 630 631\n",
      " 632 633 634 635 637 638 640 641 642 643 644 645 646 647 649 650 651 652\n",
      " 654 655 657 659 660 661 662 663 664 665 666 667]\n",
      "[  0   1   2   3   4   5   6   7   8   9  10  11  12  15  18  19  21  22\n",
      "  24  25  26  27  28  29  30  31  32  34  35  36  38  39  41  42  43  44\n",
      "  45  46  47  48  49  50  52  53  55  56  58  59  60  61  62  63  65  66\n",
      "  67  68  69  72  73  74  75  76  77  78  80  81  82  83  84  86  87  88\n",
      "  90  91  92  93  95  96  98  99 100 101 102 103 105 107 108 109 110 111\n",
      " 112 115 116 117 118 119 122 124 125 126 127 129 130 131 132 133 134 135\n",
      " 138 139 140 142 143 144 146 147 148 149 150 151 152 154 155 156 157 158\n",
      " 159 160 161 162 165 166 168 170 171 172 173 174 176 177 180 181 183 185\n",
      " 187 189 190 191 192 195 196 198 199 200 201 202 203 205 206 207 208 209\n",
      " 210 211 212 213 214 215 216 217 219 220 223 224 225 226 227 229 230 232\n",
      " 233 234 236 237 238 239 240 242 243 244 247 248 249 250 251 252 253 254\n",
      " 255 256 257 258 259 260 262 263 264 265 266 267 268 269 270 271 272 274\n",
      " 275 277 278 281 282 283 284 285 286 287 289 290 291 293 294 295 297 298\n",
      " 299 300 301 302 303 304 305 307 310 312 313 314 315 316 317 318 319 321\n",
      " 322 323 324 325 326 327 328 329 330 331 332 333 334 335 336 337 338 341\n",
      " 342 343 345 347 348 350 355 356 357 358 359 362 363 364 365 366 367 369\n",
      " 370 371 374 375 377 378 379 380 381 382 383 385 386 387 388 389 390 391\n",
      " 393 394 395 396 397 398 399 400 401 402 403 405 406 407 408 409 410 411\n",
      " 412 414 415 416 417 418 419 420 421 423 426 427 429 430 431 432 433 435\n",
      " 437 438 440 441 442 443 444 445 446 447 448 450 451 452 453 455 456 458\n",
      " 461 462 463 464 466 467 468 471 472 474 475 476 477 479 480 481 482 483\n",
      " 485 486 487 488 491 492 493 494 495 496 497 498 500 501 503 504 505 506\n",
      " 507 508 509 510 511 512 513 514 515 516 517 518 519 520 521 522 523 524\n",
      " 525 526 527 528 529 530 531 532 533 534 535 536 537 539 540 541 542 543\n",
      " 544 546 547 549 550 551 552 553 555 556 557 558 559 560 561 562 563 564\n",
      " 565 566 567 568 569 570 571 572 573 574 575 576 578 579 581 582 583 584\n",
      " 585 587 588 589 590 591 592 595 596 597 599 602 603 604 605 606 607 608\n",
      " 609 611 612 613 614 615 617 618 619 621 622 623 624 626 627 628 629 630\n",
      " 631 632 633 634 635 636 638 639 640 642 644 646 647 648 649 651 652 653\n",
      " 654 655 656 657 658 659 660 661 662 663 664 665 667]\n",
      "[  0   1   4   5   6   7   8   9  11  12  13  14  15  16  17  19  20  22\n",
      "  23  24  25  27  28  29  30  32  33  34  35  36  37  38  40  41  43  44\n",
      "  45  46  47  48  49  50  51  52  53  54  55  56  57  58  59  60  62  63\n",
      "  64  66  67  68  69  70  71  72  74  75  76  77  78  79  80  81  82  83\n",
      "  84  85  86  87  88  89  90  91  93  94  95  97  98  99 101 103 104 105\n",
      " 106 107 109 110 111 112 113 114 116 117 119 120 121 122 123 125 127 128\n",
      " 129 131 132 133 135 136 137 138 140 141 142 144 145 146 148 150 151 152\n",
      " 153 154 155 156 158 159 161 163 164 166 167 168 169 171 172 173 174 175\n",
      " 176 178 179 181 182 183 184 186 187 188 189 190 191 192 193 194 195 196\n",
      " 197 198 199 201 203 204 205 206 207 209 210 211 212 213 214 215 216 217\n",
      " 218 220 221 222 223 224 225 226 227 228 229 230 231 232 233 235 238 239\n",
      " 240 241 242 243 244 245 246 248 251 252 253 254 255 256 258 259 260 261\n",
      " 263 265 266 268 269 270 271 272 273 274 275 276 278 279 280 281 283 285\n",
      " 286 287 288 289 290 291 292 293 294 295 296 297 298 299 300 301 303 306\n",
      " 307 308 309 310 311 312 313 314 315 319 320 322 323 324 326 327 328 329\n",
      " 331 333 335 336 337 338 339 340 341 342 343 344 345 346 348 349 350 351\n",
      " 352 353 354 356 357 359 360 361 362 363 364 365 366 368 369 371 372 373\n",
      " 374 376 378 379 382 384 385 388 389 391 392 393 394 395 396 400 401 402\n",
      " 403 404 406 409 413 414 417 419 421 422 423 424 425 426 428 429 430 432\n",
      " 433 434 435 436 437 438 439 440 441 443 444 445 448 449 450 453 454 455\n",
      " 456 457 458 459 460 461 462 463 465 466 467 468 469 470 471 473 475 476\n",
      " 477 478 479 480 482 483 484 485 486 489 490 491 492 493 494 495 496 499\n",
      " 500 502 504 505 506 508 509 510 512 513 514 515 517 518 519 520 521 523\n",
      " 525 526 527 528 530 531 532 533 535 536 537 538 539 541 542 543 544 545\n",
      " 546 547 548 549 550 551 552 554 555 556 557 558 559 560 561 562 564 565\n",
      " 566 567 568 570 571 573 574 575 576 577 578 579 580 581 582 584 585 586\n",
      " 587 588 589 590 591 592 593 594 595 596 598 599 600 601 602 604 606 607\n",
      " 609 610 611 612 613 614 615 616 617 618 619 620 621 622 623 624 625 627\n",
      " 628 629 630 631 633 635 636 637 639 641 642 643 644 645 647 648 650 651\n",
      " 653 654 656 657 658 659 660 661 662 663 664 666 667]\n"
     ]
    }
   ],
   "source": [
    "for fold_n, (train_index, valid_index) in enumerate(folds.split(X_train)):\n",
    "    print(train_index)"
   ]
  },
  {
   "cell_type": "markdown",
   "metadata": {},
   "source": [
    "Blending"
   ]
  },
  {
   "cell_type": "code",
   "execution_count": 156,
   "metadata": {
    "ExecuteTime": {
     "end_time": "2019-09-28T20:21:34.013195Z",
     "start_time": "2019-09-28T20:21:34.003347Z"
    }
   },
   "outputs": [
    {
     "data": {
      "text/plain": [
       "((534, 96), (134, 96), (534,), (134,))"
      ]
     },
     "execution_count": 156,
     "metadata": {},
     "output_type": "execute_result"
    }
   ],
   "source": [
    "x_train,x_val,y_train,y_val = train_test_split(X_train,y_train,test_size=0.2, random_state=42)\n",
    "x_train.shape,x_val.shape,y_train.shape,y_val.shape"
   ]
  },
  {
   "cell_type": "code",
   "execution_count": 157,
   "metadata": {
    "ExecuteTime": {
     "end_time": "2019-09-28T20:21:34.548498Z",
     "start_time": "2019-09-28T20:21:34.511370Z"
    }
   },
   "outputs": [],
   "source": [
    "model1 = DecisionTreeClassifier(random_state=42)\n",
    "\n",
    "model1.fit(x_train,y_train)\n",
    "\n",
    "val_pred1 = model1.predict(x_val)\n",
    "test_pred1 = model1.predict(X_test)\n",
    "\n",
    "val_pred1 = pd.DataFrame(val_pred1,columns=['first'])\n",
    "test_pred1 = pd.DataFrame(test_pred1,columns=['first'])\n",
    "\n",
    "model2 = KNeighborsClassifier()\n",
    "\n",
    "model2.fit(x_train,y_train)\n",
    "\n",
    "val_pred2 = model1.predict(x_val)\n",
    "test_pred2 = model1.predict(X_test)\n",
    "\n",
    "val_pred2 = pd.DataFrame(val_pred2,columns=['second'])\n",
    "test_pred2 = pd.DataFrame(test_pred2,columns=['second'])"
   ]
  },
  {
   "cell_type": "code",
   "execution_count": 158,
   "metadata": {
    "ExecuteTime": {
     "end_time": "2019-09-28T20:21:36.494829Z",
     "start_time": "2019-09-28T20:21:36.487124Z"
    }
   },
   "outputs": [
    {
     "data": {
      "text/plain": [
       "((223, 96), (223, 1), (223, 1))"
      ]
     },
     "execution_count": 158,
     "metadata": {},
     "output_type": "execute_result"
    }
   ],
   "source": [
    "X_test.shape,test_pred1.shape, test_pred2.shape"
   ]
  },
  {
   "cell_type": "code",
   "execution_count": 159,
   "metadata": {
    "ExecuteTime": {
     "end_time": "2019-09-28T20:21:37.498121Z",
     "start_time": "2019-09-28T20:21:37.488912Z"
    }
   },
   "outputs": [
    {
     "data": {
      "text/plain": [
       "((134, 96), (134, 1), (134, 1))"
      ]
     },
     "execution_count": 159,
     "metadata": {},
     "output_type": "execute_result"
    }
   ],
   "source": [
    "x_val.shape, val_pred1.shape, val_pred2.shape"
   ]
  },
  {
   "cell_type": "code",
   "execution_count": 160,
   "metadata": {
    "ExecuteTime": {
     "end_time": "2019-09-28T20:21:44.213085Z",
     "start_time": "2019-09-28T20:21:38.536597Z"
    }
   },
   "outputs": [
    {
     "data": {
      "text/plain": [
       "0.7892376681614349"
      ]
     },
     "execution_count": 160,
     "metadata": {},
     "output_type": "execute_result"
    }
   ],
   "source": [
    "#Combining the meta features and validation set - Logistic regression\n",
    "\n",
    "df_val = pd.concat([x_val.reset_index(), val_pred1, val_pred2],axis=1,)\n",
    "df_test = pd.concat([X_test.reset_index(), test_pred1, test_pred2],axis=1)\n",
    "\n",
    "model = LogisticRegression()\n",
    "model.fit(df_val,y_val)\n",
    "model.score(df_test, y_test)\n",
    "\n",
    "from sklearn.ensemble import AdaBoostClassifier\n",
    "model = AdaBoostClassifier(random_state=42,n_estimators=500,learning_rate=0.01)\n",
    "model.fit(df_val,y_val)\n",
    "model.score(df_test, y_test)\n",
    "\n",
    "\n",
    "from sklearn.ensemble import GradientBoostingClassifier\n",
    "model = GradientBoostingClassifier(random_state=42,n_estimators=5000,learning_rate=0.01,loss='exponential')\n",
    "model.fit(df_val,y_val)\n",
    "model.score(df_test, y_test)\n",
    "\n",
    "\n",
    "import xgboost as xgb\n",
    "model = xgb.XGBClassifier(random_state=42,learning_rate=0.01)\n",
    "model.fit(df_val,y_val)\n",
    "model.score(df_test, y_test)"
   ]
  },
  {
   "cell_type": "markdown",
   "metadata": {},
   "source": [
    "Bagging"
   ]
  },
  {
   "cell_type": "code",
   "execution_count": 162,
   "metadata": {
    "ExecuteTime": {
     "end_time": "2019-09-28T20:22:05.650167Z",
     "start_time": "2019-09-28T20:22:05.588321Z"
    }
   },
   "outputs": [
    {
     "data": {
      "text/plain": [
       "0.7847533632286996"
      ]
     },
     "execution_count": 162,
     "metadata": {},
     "output_type": "execute_result"
    }
   ],
   "source": [
    "from sklearn.ensemble import BaggingClassifier\n",
    "model = BaggingClassifier(DecisionTreeClassifier(random_state=42))\n",
    "model.fit(X_train,y_train)\n",
    "model.score(X_test,y_test)"
   ]
  },
  {
   "cell_type": "code",
   "execution_count": 163,
   "metadata": {
    "ExecuteTime": {
     "end_time": "2019-09-28T20:22:09.017983Z",
     "start_time": "2019-09-28T20:22:07.446972Z"
    }
   },
   "outputs": [
    {
     "data": {
      "text/plain": [
       "0.7623318385650224"
      ]
     },
     "execution_count": 163,
     "metadata": {},
     "output_type": "execute_result"
    }
   ],
   "source": [
    "model = RandomForestClassifier(random_state=42,n_estimators=1000)\n",
    "model.fit(X_train,y_train)\n",
    "model.score(X_test,y_test)"
   ]
  },
  {
   "cell_type": "markdown",
   "metadata": {},
   "source": [
    "Boosting"
   ]
  },
  {
   "cell_type": "code",
   "execution_count": 164,
   "metadata": {
    "ExecuteTime": {
     "end_time": "2019-09-28T20:22:11.998021Z",
     "start_time": "2019-09-28T20:22:11.191803Z"
    }
   },
   "outputs": [
    {
     "data": {
      "text/plain": [
       "0.8251121076233184"
      ]
     },
     "execution_count": 164,
     "metadata": {},
     "output_type": "execute_result"
    }
   ],
   "source": [
    "from sklearn.ensemble import AdaBoostClassifier\n",
    "model = AdaBoostClassifier(random_state=42,n_estimators=500,learning_rate=0.01)\n",
    "model.fit(df_val,y_val)\n",
    "model.score(df_test, y_test)"
   ]
  },
  {
   "cell_type": "code",
   "execution_count": 167,
   "metadata": {
    "ExecuteTime": {
     "end_time": "2019-09-28T20:22:42.337799Z",
     "start_time": "2019-09-28T20:22:37.245876Z"
    }
   },
   "outputs": [
    {
     "data": {
      "text/plain": [
       "0.7668161434977578"
      ]
     },
     "execution_count": 167,
     "metadata": {},
     "output_type": "execute_result"
    }
   ],
   "source": [
    "from sklearn.ensemble import GradientBoostingClassifier\n",
    "model = GradientBoostingClassifier(random_state=42,n_estimators=5000,learning_rate=0.01,loss='exponential')\n",
    "model.fit(df_val,y_val)\n",
    "model.score(df_test, y_test)"
   ]
  },
  {
   "cell_type": "code",
   "execution_count": 168,
   "metadata": {
    "ExecuteTime": {
     "end_time": "2019-09-28T20:22:56.954840Z",
     "start_time": "2019-09-28T20:22:42.628310Z"
    }
   },
   "outputs": [
    {
     "data": {
      "text/plain": [
       "0.7937219730941704"
      ]
     },
     "execution_count": 168,
     "metadata": {},
     "output_type": "execute_result"
    }
   ],
   "source": [
    "import xgboost as xgb\n",
    "model = xgb.XGBClassifier(random_state=42,learning_rate=0.01,n_estimators=5000)\n",
    "model.fit(df_val,y_val)\n",
    "model.score(df_test, y_test)"
   ]
  },
  {
   "cell_type": "code",
   "execution_count": 169,
   "metadata": {
    "ExecuteTime": {
     "end_time": "2019-09-28T20:22:58.473155Z",
     "start_time": "2019-09-28T20:22:58.325421Z"
    }
   },
   "outputs": [
    {
     "data": {
      "text/plain": [
       "0.8161434977578476"
      ]
     },
     "execution_count": 169,
     "metadata": {},
     "output_type": "execute_result"
    }
   ],
   "source": [
    "import lightgbm as lgb\n",
    "train_data = lgb.Dataset(X_train,label=y_train)\n",
    "\n",
    "#define parameters\n",
    "params = {'learning_rate':0.001}\n",
    "model = lgb.train(params, train_data, 100)\n",
    "y_pred = model.predict(X_test)\n",
    "y_pred = np.where(y_pred>0.4,1,0)\n",
    "accuracy_score(y_test,y_pred)"
   ]
  },
  {
   "cell_type": "code",
   "execution_count": 170,
   "metadata": {
    "ExecuteTime": {
     "end_time": "2019-09-28T20:23:03.750185Z",
     "start_time": "2019-09-28T20:23:02.546154Z"
    },
    "scrolled": true
   },
   "outputs": [
    {
     "name": "stdout",
     "output_type": "stream",
     "text": [
      "0:\tlearn: 0.8053892\ttest: 0.7802691\tbest: 0.7802691 (0)\ttotal: 22.3ms\tremaining: 1.11s\n",
      "1:\tlearn: 0.8143713\ttest: 0.8161435\tbest: 0.8161435 (1)\ttotal: 50.2ms\tremaining: 1.23s\n",
      "2:\tlearn: 0.8143713\ttest: 0.8161435\tbest: 0.8161435 (1)\ttotal: 66.6ms\tremaining: 1.06s\n",
      "3:\tlearn: 0.8188623\ttest: 0.8161435\tbest: 0.8161435 (1)\ttotal: 86.3ms\tremaining: 1.01s\n",
      "4:\tlearn: 0.8233533\ttest: 0.8116592\tbest: 0.8161435 (1)\ttotal: 128ms\tremaining: 1.18s\n",
      "5:\tlearn: 0.8233533\ttest: 0.8116592\tbest: 0.8161435 (1)\ttotal: 156ms\tremaining: 1.17s\n",
      "6:\tlearn: 0.8233533\ttest: 0.8206278\tbest: 0.8206278 (6)\ttotal: 188ms\tremaining: 1.18s\n",
      "7:\tlearn: 0.8263473\ttest: 0.8116592\tbest: 0.8206278 (6)\ttotal: 208ms\tremaining: 1.12s\n",
      "8:\tlearn: 0.8263473\ttest: 0.8206278\tbest: 0.8206278 (6)\ttotal: 234ms\tremaining: 1.09s\n",
      "9:\tlearn: 0.8263473\ttest: 0.8116592\tbest: 0.8206278 (6)\ttotal: 253ms\tremaining: 1.04s\n",
      "10:\tlearn: 0.8278443\ttest: 0.8116592\tbest: 0.8206278 (6)\ttotal: 269ms\tremaining: 979ms\n",
      "11:\tlearn: 0.8278443\ttest: 0.8116592\tbest: 0.8206278 (6)\ttotal: 286ms\tremaining: 928ms\n",
      "12:\tlearn: 0.8278443\ttest: 0.8116592\tbest: 0.8206278 (6)\ttotal: 295ms\tremaining: 862ms\n",
      "13:\tlearn: 0.8278443\ttest: 0.8116592\tbest: 0.8206278 (6)\ttotal: 315ms\tremaining: 832ms\n",
      "14:\tlearn: 0.8293413\ttest: 0.8116592\tbest: 0.8206278 (6)\ttotal: 340ms\tremaining: 817ms\n",
      "15:\tlearn: 0.8278443\ttest: 0.8116592\tbest: 0.8206278 (6)\ttotal: 357ms\tremaining: 781ms\n",
      "16:\tlearn: 0.8323353\ttest: 0.8206278\tbest: 0.8206278 (6)\ttotal: 378ms\tremaining: 756ms\n",
      "17:\tlearn: 0.8353293\ttest: 0.8251121\tbest: 0.8251121 (17)\ttotal: 394ms\tremaining: 722ms\n",
      "18:\tlearn: 0.8428144\ttest: 0.8161435\tbest: 0.8251121 (17)\ttotal: 422ms\tremaining: 710ms\n",
      "19:\tlearn: 0.8398204\ttest: 0.8161435\tbest: 0.8251121 (17)\ttotal: 437ms\tremaining: 678ms\n",
      "20:\tlearn: 0.8398204\ttest: 0.8161435\tbest: 0.8251121 (17)\ttotal: 452ms\tremaining: 646ms\n",
      "21:\tlearn: 0.8383234\ttest: 0.8206278\tbest: 0.8251121 (17)\ttotal: 468ms\tremaining: 616ms\n",
      "22:\tlearn: 0.8383234\ttest: 0.8206278\tbest: 0.8251121 (17)\ttotal: 494ms\tremaining: 601ms\n",
      "23:\tlearn: 0.8413174\ttest: 0.8206278\tbest: 0.8251121 (17)\ttotal: 536ms\tremaining: 602ms\n",
      "24:\tlearn: 0.8413174\ttest: 0.8206278\tbest: 0.8251121 (17)\ttotal: 555ms\tremaining: 578ms\n",
      "25:\tlearn: 0.8398204\ttest: 0.8206278\tbest: 0.8251121 (17)\ttotal: 576ms\tremaining: 554ms\n",
      "26:\tlearn: 0.8443114\ttest: 0.8206278\tbest: 0.8251121 (17)\ttotal: 608ms\tremaining: 540ms\n",
      "27:\tlearn: 0.8443114\ttest: 0.8206278\tbest: 0.8251121 (17)\ttotal: 631ms\tremaining: 518ms\n",
      "28:\tlearn: 0.8443114\ttest: 0.8161435\tbest: 0.8251121 (17)\ttotal: 652ms\tremaining: 495ms\n",
      "29:\tlearn: 0.8458084\ttest: 0.8161435\tbest: 0.8251121 (17)\ttotal: 667ms\tremaining: 467ms\n",
      "30:\tlearn: 0.8458084\ttest: 0.8161435\tbest: 0.8251121 (17)\ttotal: 689ms\tremaining: 445ms\n",
      "31:\tlearn: 0.8428144\ttest: 0.8206278\tbest: 0.8251121 (17)\ttotal: 709ms\tremaining: 421ms\n",
      "32:\tlearn: 0.8443114\ttest: 0.8206278\tbest: 0.8251121 (17)\ttotal: 726ms\tremaining: 396ms\n",
      "33:\tlearn: 0.8488024\ttest: 0.8161435\tbest: 0.8251121 (17)\ttotal: 742ms\tremaining: 371ms\n",
      "34:\tlearn: 0.8473054\ttest: 0.8161435\tbest: 0.8251121 (17)\ttotal: 762ms\tremaining: 348ms\n",
      "35:\tlearn: 0.8458084\ttest: 0.8161435\tbest: 0.8251121 (17)\ttotal: 783ms\tremaining: 326ms\n",
      "36:\tlearn: 0.8473054\ttest: 0.8161435\tbest: 0.8251121 (17)\ttotal: 802ms\tremaining: 303ms\n",
      "37:\tlearn: 0.8473054\ttest: 0.8161435\tbest: 0.8251121 (17)\ttotal: 810ms\tremaining: 277ms\n",
      "38:\tlearn: 0.8473054\ttest: 0.8161435\tbest: 0.8251121 (17)\ttotal: 829ms\tremaining: 255ms\n",
      "39:\tlearn: 0.8473054\ttest: 0.8161435\tbest: 0.8251121 (17)\ttotal: 866ms\tremaining: 238ms\n",
      "40:\tlearn: 0.8488024\ttest: 0.8161435\tbest: 0.8251121 (17)\ttotal: 887ms\tremaining: 216ms\n",
      "41:\tlearn: 0.8502994\ttest: 0.8116592\tbest: 0.8251121 (17)\ttotal: 904ms\tremaining: 194ms\n",
      "42:\tlearn: 0.8517964\ttest: 0.8071749\tbest: 0.8251121 (17)\ttotal: 921ms\tremaining: 171ms\n",
      "43:\tlearn: 0.8517964\ttest: 0.8071749\tbest: 0.8251121 (17)\ttotal: 954ms\tremaining: 152ms\n",
      "44:\tlearn: 0.8502994\ttest: 0.8071749\tbest: 0.8251121 (17)\ttotal: 977ms\tremaining: 130ms\n",
      "45:\tlearn: 0.8517964\ttest: 0.8071749\tbest: 0.8251121 (17)\ttotal: 1.01s\tremaining: 109ms\n",
      "46:\tlearn: 0.8517964\ttest: 0.8071749\tbest: 0.8251121 (17)\ttotal: 1.03s\tremaining: 87.9ms\n",
      "47:\tlearn: 0.8517964\ttest: 0.8071749\tbest: 0.8251121 (17)\ttotal: 1.05s\tremaining: 65.8ms\n",
      "48:\tlearn: 0.8517964\ttest: 0.8071749\tbest: 0.8251121 (17)\ttotal: 1.07s\tremaining: 43.8ms\n",
      "49:\tlearn: 0.8517964\ttest: 0.8026906\tbest: 0.8251121 (17)\ttotal: 1.09s\tremaining: 21.8ms\n",
      "50:\tlearn: 0.8517964\ttest: 0.8026906\tbest: 0.8251121 (17)\ttotal: 1.1s\tremaining: 0us\n",
      "\n",
      "bestTest = 0.8251121076\n",
      "bestIteration = 17\n",
      "\n",
      "Shrink model to first 18 iterations.\n"
     ]
    },
    {
     "data": {
      "text/plain": [
       "0.8251121076233184"
      ]
     },
     "execution_count": 170,
     "metadata": {},
     "output_type": "execute_result"
    }
   ],
   "source": [
    "import catboost as cat\n",
    "model = cat.CatBoostClassifier(use_best_model=True, eval_metric='Accuracy',depth= 4, iterations= 51, learning_rate= 0.07483533251216079)\n",
    "categorical_feature_indices = np.where(df.dtypes!=np.float)[0]\n",
    "model.fit(X_train, y_train, cat_features=categorical_feature_indices, eval_set=(X_test,y_test))\n",
    "model.score(X_test, y_test)"
   ]
  },
  {
   "cell_type": "markdown",
   "metadata": {},
   "source": [
    "GridsearchCV with Catboost"
   ]
  },
  {
   "cell_type": "code",
   "execution_count": 171,
   "metadata": {
    "ExecuteTime": {
     "end_time": "2019-09-28T20:23:41.277229Z",
     "start_time": "2019-09-28T20:23:09.696460Z"
    },
    "scrolled": true
   },
   "outputs": [
    {
     "name": "stdout",
     "output_type": "stream",
     "text": [
      "0:\tlearn: 0.6926300\ttotal: 59.6ms\tremaining: 2.74s\n",
      "1:\tlearn: 0.6921075\ttotal: 77.3ms\tremaining: 1.74s\n",
      "2:\tlearn: 0.6915390\ttotal: 151ms\tremaining: 2.21s\n",
      "3:\tlearn: 0.6909394\ttotal: 194ms\tremaining: 2.08s\n",
      "4:\tlearn: 0.6903608\ttotal: 262ms\tremaining: 2.2s\n",
      "5:\tlearn: 0.6898199\ttotal: 298ms\tremaining: 2.04s\n",
      "6:\tlearn: 0.6892510\ttotal: 361ms\tremaining: 2.06s\n",
      "7:\tlearn: 0.6886986\ttotal: 401ms\tremaining: 1.96s\n",
      "8:\tlearn: 0.6881436\ttotal: 473ms\tremaining: 2s\n",
      "9:\tlearn: 0.6875948\ttotal: 498ms\tremaining: 1.84s\n",
      "10:\tlearn: 0.6870773\ttotal: 565ms\tremaining: 1.85s\n",
      "11:\tlearn: 0.6865367\ttotal: 648ms\tremaining: 1.89s\n",
      "12:\tlearn: 0.6860251\ttotal: 670ms\tremaining: 1.75s\n",
      "13:\tlearn: 0.6856241\ttotal: 723ms\tremaining: 1.7s\n",
      "14:\tlearn: 0.6851050\ttotal: 770ms\tremaining: 1.64s\n",
      "15:\tlearn: 0.6845189\ttotal: 842ms\tremaining: 1.63s\n",
      "16:\tlearn: 0.6839438\ttotal: 922ms\tremaining: 1.63s\n",
      "17:\tlearn: 0.6834451\ttotal: 959ms\tremaining: 1.54s\n",
      "18:\tlearn: 0.6829125\ttotal: 995ms\tremaining: 1.47s\n",
      "19:\tlearn: 0.6823459\ttotal: 1.03s\tremaining: 1.39s\n",
      "20:\tlearn: 0.6818182\ttotal: 1.06s\tremaining: 1.32s\n",
      "21:\tlearn: 0.6812737\ttotal: 1.12s\tremaining: 1.27s\n",
      "22:\tlearn: 0.6807188\ttotal: 1.19s\tremaining: 1.25s\n",
      "23:\tlearn: 0.6801833\ttotal: 1.25s\tremaining: 1.2s\n",
      "24:\tlearn: 0.6796409\ttotal: 1.31s\tremaining: 1.16s\n",
      "25:\tlearn: 0.6791414\ttotal: 1.39s\tremaining: 1.13s\n",
      "26:\tlearn: 0.6786009\ttotal: 1.45s\tremaining: 1.07s\n",
      "27:\tlearn: 0.6780250\ttotal: 1.51s\tremaining: 1.03s\n",
      "28:\tlearn: 0.6776819\ttotal: 1.54s\tremaining: 957ms\n",
      "29:\tlearn: 0.6771496\ttotal: 1.6s\tremaining: 905ms\n",
      "30:\tlearn: 0.6766139\ttotal: 1.63s\tremaining: 841ms\n",
      "31:\tlearn: 0.6760549\ttotal: 1.69s\tremaining: 794ms\n",
      "32:\tlearn: 0.6756149\ttotal: 1.73s\tremaining: 735ms\n",
      "33:\tlearn: 0.6751225\ttotal: 1.75s\tremaining: 671ms\n",
      "34:\tlearn: 0.6745858\ttotal: 1.8s\tremaining: 617ms\n",
      "35:\tlearn: 0.6740413\ttotal: 1.85s\tremaining: 565ms\n",
      "36:\tlearn: 0.6735192\ttotal: 1.91s\tremaining: 517ms\n",
      "37:\tlearn: 0.6730204\ttotal: 1.96s\tremaining: 465ms\n",
      "38:\tlearn: 0.6724912\ttotal: 2s\tremaining: 410ms\n",
      "39:\tlearn: 0.6719716\ttotal: 2.02s\tremaining: 354ms\n",
      "40:\tlearn: 0.6714495\ttotal: 2.08s\tremaining: 305ms\n",
      "41:\tlearn: 0.6709135\ttotal: 2.14s\tremaining: 255ms\n",
      "42:\tlearn: 0.6703886\ttotal: 2.21s\tremaining: 206ms\n",
      "43:\tlearn: 0.6698512\ttotal: 2.27s\tremaining: 155ms\n",
      "44:\tlearn: 0.6693280\ttotal: 2.31s\tremaining: 103ms\n",
      "45:\tlearn: 0.6688801\ttotal: 2.35s\tremaining: 51.1ms\n",
      "46:\tlearn: 0.6683503\ttotal: 2.42s\tremaining: 0us\n",
      "0.8116591928251121\n",
      " best estimator -  <catboost.core.CatBoostClassifier object at 0x00000138E5A05390>\n",
      " best score -  0.8218562874251497\n",
      " best params -  {'depth': 9, 'iterations': 47, 'learning_rate': 0.0007787658410143283}\n"
     ]
    }
   ],
   "source": [
    "from sklearn.model_selection import GridSearchCV, RandomizedSearchCV\n",
    "from scipy.stats import uniform as sp_randFloat\n",
    "from scipy.stats import randint as sp_randInt\n",
    "\n",
    "model = cat.CatBoostClassifier()\n",
    "parameters = {\n",
    "    'depth':sp_randInt(4,10),\n",
    "    'learning_rate':sp_randFloat(),\n",
    "    'iterations':sp_randInt(10,100)\n",
    "}\n",
    "\n",
    "randm = RandomizedSearchCV(estimator=model, param_distributions=parameters, cv=2, n_iter=10, n_jobs=-1, random_state=42)\n",
    "randm.fit(X_train,y_train)\n",
    "pred = randm.predict(X_test)\n",
    "print(accuracy_score(y_test, pred))\n",
    "\n",
    "print(' best estimator - ', randm.best_estimator_)\n",
    "print(' best score - ', randm.best_score_)\n",
    "print(' best params - ', randm.best_params_)"
   ]
  },
  {
   "cell_type": "markdown",
   "metadata": {
    "ExecuteTime": {
     "end_time": "2019-09-28T19:49:16.327973Z",
     "start_time": "2019-09-28T19:49:16.321204Z"
    }
   },
   "source": [
    "Vecstack - Stacking library"
   ]
  },
  {
   "cell_type": "code",
   "execution_count": 122,
   "metadata": {
    "ExecuteTime": {
     "end_time": "2019-09-28T20:04:55.324265Z",
     "start_time": "2019-09-28T20:04:45.363762Z"
    }
   },
   "outputs": [
    {
     "name": "stdout",
     "output_type": "stream",
     "text": [
      "task:         [classification]\n",
      "n_classes:    [2]\n",
      "metric:       [accuracy_score]\n",
      "mode:         [oof_pred_bag]\n",
      "n_models:     [3]\n",
      "\n",
      "model  0:     [KNeighborsClassifier]\n",
      "    fold  0:  [0.78571429]\n",
      "    fold  1:  [0.80239521]\n",
      "    fold  2:  [0.76047904]\n",
      "    fold  3:  [0.83734940]\n",
      "    ----\n",
      "    MEAN:     [0.79648448] + [0.02791624]\n",
      "    FULL:     [0.79640719]\n",
      "\n",
      "model  1:     [RandomForestClassifier]\n",
      "    fold  0:  [0.80952381]\n",
      "    fold  1:  [0.79640719]\n",
      "    fold  2:  [0.79640719]\n",
      "    fold  3:  [0.85542169]\n",
      "    ----\n",
      "    MEAN:     [0.81443997] + [0.02425919]\n",
      "    FULL:     [0.81437126]\n",
      "\n",
      "model  2:     [XGBClassifier]\n",
      "    fold  0:  [0.83928571]\n",
      "    fold  1:  [0.82035928]\n",
      "    fold  2:  [0.79640719]\n",
      "    fold  3:  [0.83734940]\n",
      "    ----\n",
      "    MEAN:     [0.82335039] + [0.01721039]\n",
      "    FULL:     [0.82335329]\n",
      "\n"
     ]
    }
   ],
   "source": [
    "from vecstack import stacking\n",
    "\n",
    "models = [\n",
    "    KNeighborsClassifier(n_neighbors=5,\n",
    "                        n_jobs=-1),\n",
    "        \n",
    "    RandomForestClassifier(random_state=0, n_jobs=-1, \n",
    "                           n_estimators=600, max_depth=3),\n",
    "        \n",
    "    xgb.XGBClassifier(random_state=0, subsample=1.0, n_estimators= 600, min_child_weight= 1, max_depth = 10, learning_rate= 0.001, gamma= 0.5, eta= 0.1, colsample_bytree= 1.0)\n",
    "]\n",
    "\n",
    "S_train, S_test = stacking(models,                   \n",
    "                           X_train, y_train, X_test,   \n",
    "                           regression=False, \n",
    "     \n",
    "                           mode='oof_pred_bag', \n",
    "       \n",
    "                           needs_proba=False,\n",
    "         \n",
    "                           save_dir=None, \n",
    "            \n",
    "                           metric=accuracy_score, \n",
    "    \n",
    "                           n_folds=4, \n",
    "                 \n",
    "                           stratified=True,\n",
    "            \n",
    "                           shuffle=True,  \n",
    "            \n",
    "                           random_state=0,    \n",
    "         \n",
    "                           verbose=2)"
   ]
  },
  {
   "cell_type": "code",
   "execution_count": 123,
   "metadata": {
    "ExecuteTime": {
     "end_time": "2019-09-28T20:05:22.703114Z",
     "start_time": "2019-09-28T20:05:22.448208Z"
    }
   },
   "outputs": [
    {
     "name": "stdout",
     "output_type": "stream",
     "text": [
      "Final prediction score: [0.82062780]\n"
     ]
    }
   ],
   "source": [
    "model = xgb.XGBClassifier(random_state=0, n_jobs=-1, subsample=1.0, n_estimators= 600, min_child_weight= 1, max_depth = 10, learning_rate= 0.001, gamma= 0.5, eta= 0.1, colsample_bytree= 1.0)\n",
    "    \n",
    "model = model.fit(S_train, y_train)\n",
    "y_pred = model.predict(S_test)\n",
    "print('Final prediction score: [%.8f]' % accuracy_score(y_test, y_pred))"
   ]
  },
  {
   "cell_type": "markdown",
   "metadata": {},
   "source": [
    "XGboost with gridsearchcv"
   ]
  },
  {
   "cell_type": "code",
   "execution_count": 116,
   "metadata": {
    "ExecuteTime": {
     "end_time": "2019-09-28T20:00:23.237660Z",
     "start_time": "2019-09-28T20:00:05.490569Z"
    }
   },
   "outputs": [
    {
     "name": "stdout",
     "output_type": "stream",
     "text": [
      "Fitting 10 folds for each of 5 candidates, totalling 50 fits\n"
     ]
    },
    {
     "name": "stderr",
     "output_type": "stream",
     "text": [
      "[Parallel(n_jobs=-1)]: Using backend LokyBackend with 12 concurrent workers.\n",
      "[Parallel(n_jobs=-1)]: Done   8 tasks      | elapsed:    0.8s\n",
      "[Parallel(n_jobs=-1)]: Done  44 out of  50 | elapsed:   14.6s remaining:    1.9s\n",
      "[Parallel(n_jobs=-1)]: Done  50 out of  50 | elapsed:   15.4s finished\n"
     ]
    },
    {
     "data": {
      "text/plain": [
       "RandomizedSearchCV(cv=<generator object _BaseKFold.split at 0x00000138E5C091B0>,\n",
       "                   error_score='raise-deprecating',\n",
       "                   estimator=XGBClassifier(base_score=0.5, booster='gbtree',\n",
       "                                           colsample_bylevel=1,\n",
       "                                           colsample_bynode=1,\n",
       "                                           colsample_bytree=1, gamma=0,\n",
       "                                           learning_rate=0.02, max_delta_step=0,\n",
       "                                           max_depth=3, min_child_weight=1,\n",
       "                                           missing=None, n_estimators=600,\n",
       "                                           n_jobs=1, nthread=None,\n",
       "                                           o...\n",
       "                   param_distributions={'colsample_bytree': [0.6, 0.8, 1.0],\n",
       "                                        'eta': [0.3, 0.2, 0.1, 0.05, 0.01,\n",
       "                                                0.005],\n",
       "                                        'gamma': [0.5, 1, 1.5, 2, 5],\n",
       "                                        'learning_rate': [1.0, 0.1, 0.5, 0.005,\n",
       "                                                          0.001],\n",
       "                                        'max_depth': [3, 4, 5, 6, 7, 10],\n",
       "                                        'min_child_weight': [1, 5, 10],\n",
       "                                        'n_estimators': [100, 500, 600, 700,\n",
       "                                                         900, 1000],\n",
       "                                        'subsample': [0.6, 0.8, 1.0]},\n",
       "                   pre_dispatch='2*n_jobs', random_state=1001, refit=True,\n",
       "                   return_train_score=False, scoring='roc_auc', verbose=3)"
      ]
     },
     "execution_count": 116,
     "metadata": {},
     "output_type": "execute_result"
    }
   ],
   "source": [
    "# A parameter grid for XGBoost\n",
    "params = {\n",
    "        'min_child_weight': [1, 5, 10],\n",
    "        'gamma': [0.5, 1, 1.5, 2, 5],\n",
    "        'subsample': [0.6, 0.8, 1.0],\n",
    "        'colsample_bytree': [0.6, 0.8, 1.0],\n",
    "        'max_depth': [3, 4, 5,6,7,10],\n",
    "        'eta':[.3, .2, .1, .05, .01, .005],\n",
    "        'learning_rate':[1.0,0.1,0.5,0.005,0.001],\n",
    "        'n_estimators':[100,500,600,700,900,1000]\n",
    "        }\n",
    "\n",
    "xgbClass = xgb.XGBClassifier(learning_rate=0.02, n_estimators=600, objective='binary:logistic')\n",
    "\n",
    "folds = 10\n",
    "param_comb = 5\n",
    "\n",
    "skf = StratifiedKFold(n_splits=folds, shuffle = True, random_state = 1001)\n",
    "\n",
    "random_search = RandomizedSearchCV(xgbClass, param_distributions=params, n_iter=param_comb, scoring='roc_auc', n_jobs=-1, cv=skf.split(data,y), verbose=3, random_state=1001 )\n",
    "\n",
    "random_search.fit(X, y)"
   ]
  },
  {
   "cell_type": "code",
   "execution_count": 117,
   "metadata": {
    "ExecuteTime": {
     "end_time": "2019-09-28T20:00:35.152658Z",
     "start_time": "2019-09-28T20:00:35.148328Z"
    }
   },
   "outputs": [
    {
     "name": "stdout",
     "output_type": "stream",
     "text": [
      "\n",
      " Best hyperparameters:\n",
      "{'subsample': 1.0, 'n_estimators': 600, 'min_child_weight': 1, 'max_depth': 10, 'learning_rate': 0.001, 'gamma': 0.5, 'eta': 0.1, 'colsample_bytree': 1.0}\n"
     ]
    }
   ],
   "source": [
    "print('\\n Best hyperparameters:')\n",
    "print(random_search.best_params_)"
   ]
  },
  {
   "cell_type": "code",
   "execution_count": 121,
   "metadata": {
    "ExecuteTime": {
     "end_time": "2019-09-28T20:03:36.875392Z",
     "start_time": "2019-09-28T20:03:35.111165Z"
    }
   },
   "outputs": [
    {
     "data": {
      "text/plain": [
       "0.8295964125560538"
      ]
     },
     "execution_count": 121,
     "metadata": {},
     "output_type": "execute_result"
    }
   ],
   "source": [
    "model = xgb.XGBClassifier(random_state=42,subsample=1.0, n_estimators= 600, min_child_weight= 1, max_depth = 10, learning_rate= 0.001, gamma= 0.5, eta= 0.1, colsample_bytree= 1.0)\n",
    "model.fit(X_train,y_train)\n",
    "model.score(X_test, y_test)"
   ]
  },
  {
   "cell_type": "code",
   "execution_count": null,
   "metadata": {},
   "outputs": [],
   "source": []
  }
 ],
 "metadata": {
  "kernelspec": {
   "display_name": "Python 3",
   "language": "python",
   "name": "python3"
  },
  "language_info": {
   "codemirror_mode": {
    "name": "ipython",
    "version": 3
   },
   "file_extension": ".py",
   "mimetype": "text/x-python",
   "name": "python",
   "nbconvert_exporter": "python",
   "pygments_lexer": "ipython3",
   "version": "3.7.1"
  },
  "toc": {
   "base_numbering": 1,
   "nav_menu": {},
   "number_sections": true,
   "sideBar": true,
   "skip_h1_title": false,
   "title_cell": "Table of Contents",
   "title_sidebar": "Contents",
   "toc_cell": false,
   "toc_position": {},
   "toc_section_display": true,
   "toc_window_display": false
  },
  "varInspector": {
   "cols": {
    "lenName": 16,
    "lenType": 16,
    "lenVar": 40
   },
   "kernels_config": {
    "python": {
     "delete_cmd_postfix": "",
     "delete_cmd_prefix": "del ",
     "library": "var_list.py",
     "varRefreshCmd": "print(var_dic_list())"
    },
    "r": {
     "delete_cmd_postfix": ") ",
     "delete_cmd_prefix": "rm(",
     "library": "var_list.r",
     "varRefreshCmd": "cat(var_dic_list()) "
    }
   },
   "types_to_exclude": [
    "module",
    "function",
    "builtin_function_or_method",
    "instance",
    "_Feature"
   ],
   "window_display": false
  }
 },
 "nbformat": 4,
 "nbformat_minor": 2
}
